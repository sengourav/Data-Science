{
  "cells": [
    {
      "cell_type": "markdown",
      "source": [],
      "metadata": {
        "id": "3v0H2N6rLmuU"
      },
      "id": "3v0H2N6rLmuU"
    },
    {
      "cell_type": "markdown",
      "id": "3c3b2aca",
      "metadata": {
        "id": "3c3b2aca"
      },
      "source": [
        "# Title: Web Scraping and Exploratory data analysis on IMDB Rating of top 1000 movies."
      ]
    },
    {
      "cell_type": "markdown",
      "id": "8a9a4fd2",
      "metadata": {
        "id": "8a9a4fd2"
      },
      "source": [
        "# Importing the required libraries"
      ]
    },
    {
      "cell_type": "code",
      "execution_count": null,
      "id": "fd8534d6",
      "metadata": {
        "id": "fd8534d6"
      },
      "outputs": [],
      "source": [
        "#These are for EDA\n",
        "import pandas as pd\n",
        "import numpy as np\n",
        "import seaborn as sns\n",
        "import matplotlib.pyplot as plt"
      ]
    },
    {
      "cell_type": "code",
      "source": [
        "#these are for Web Scraping\n",
        "import bs4\n",
        "import requests\n",
        "from bs4 import BeautifulSoup\n",
        "from csv import writer"
      ],
      "metadata": {
        "id": "8bczk_kChFIe"
      },
      "id": "8bczk_kChFIe",
      "execution_count": null,
      "outputs": []
    },
    {
      "cell_type": "markdown",
      "id": "ac0f9b09",
      "metadata": {
        "id": "ac0f9b09"
      },
      "source": [
        "## DATASETS :\n",
        "* Dataset name              :IMDb \"Top 1000\" movies (Sorted by IMDb Rating Descending)\n",
        "* Link                      : https://www.imdb.com/search/title/?count=100&groups=top_1000&sort=user_rating\n",
        "\n",
        "* dataset link              :https://github.com/sengourav/Android-and-other-codes./blob/62cb5841e085e894fff5a72c0e8ba9fe264c8b88/FeaturedMoviesReleased2021.csv\n",
        " or\n",
        "https://github.com/sengourav/Android-and-other-codes./blob/62cb5841e085e894fff5a72c0e8ba9fe264c8b88/cleaned1000movies.csv\n",
        "* Number of observation     : 1000\n",
        "* Number of variables       : 9  \n",
        "* Description of the dataset:There are total 1000 movies. Each movie in the dataset comes with following attributes:\n",
        "                              Name\n",
        "                              Rank\n",
        "                              Description\n",
        "                              Director name\n",
        "                              Actors name\n",
        "                              IMDB Rating\n",
        "                              Gross Income\n",
        "                              Metadata\n",
        "                              Votes\n",
        "                             "
      ]
    },
    {
      "cell_type": "markdown",
      "source": [
        "# Web Scraping of above dataset using Beautiful Soup"
      ],
      "metadata": {
        "id": "yrcseKMZL2ES"
      },
      "id": "yrcseKMZL2ES"
    },
    {
      "cell_type": "code",
      "source": [
        "url = \"https://www.imdb.com/search/title/?count=100&groups=top_1000&sort=user_rating\"\n",
        "r = requests.get(url)\n",
        "htmlcontent = r.content\n",
        "soup = BeautifulSoup(htmlcontent,'html.parser')"
      ],
      "metadata": {
        "id": "EVioCOcXiNuD"
      },
      "id": "EVioCOcXiNuD",
      "execution_count": null,
      "outputs": []
    },
    {
      "cell_type": "code",
      "source": [
        "list_movies =soup.find('div',class_=\"lister-list\")\n",
        "movies = list_movies.find_all('div',class_=\"lister-item mode-advanced\")"
      ],
      "metadata": {
        "id": "E_DQiaE5iQTm"
      },
      "id": "E_DQiaE5iQTm",
      "execution_count": null,
      "outputs": []
    },
    {
      "cell_type": "code",
      "source": [
        "\n",
        "with open('FeaturedMoviesReleased2021.csv','a',newline='') as f:\n",
        "    the_writer = writer(f)\n",
        "    header = ['Rank','Title','Year','Description','Director','Actor','IMDB Rating','Genre','Runtime','Metadata','Gross Earning','Vote']\n",
        "    the_writer.writerow(header)\n",
        "    for movie in movies:\n",
        "        name =movie.find('h3',class_=\"lister-item-header\").a.text\n",
        "        rank =movie.find('span',class_=\"lister-item-index unbold text-primary\").get_text(strip=True).split('.')[0] # text of the 'td' tag\n",
        "        year =movie.find('span',class_=\"lister-item-year text-muted unbold\").text\n",
        "        runtime=movie.find('span',class_=\"runtime\").text\n",
        "        genre = movie.find('span',class_=\"genre\").text\n",
        "        rating=movie.find('div',class_=\"ratings-bar\").strong.text\n",
        "        meta=movie.find('div',class_=\"inline-block ratings-metascore\")\n",
        "        if meta is None:\n",
        "            metadata = None\n",
        "        else:\n",
        "            metadata=meta.span.text\n",
        "\n",
        "        vote =movie.find('p',class_=\"sort-num_votes-visible\").find_all('span')[1].text\n",
        "        earning =movie.find('p',class_=\"sort-num_votes-visible\").find_all('span')\n",
        "        if len(earning)<5:\n",
        "            gross_earning = None\n",
        "        else:\n",
        "            gross_earning=earning[4].text.strip('\\n')\n",
        "        discription =movie.find('div',class_=\"lister-item-content\").find_all('p')[1].text\n",
        "        director=movie.find('div',class_=\"lister-item-content\").find_all('p')[2].find_all('a')[0].text\n",
        "        actors=movie.find('div',class_=\"lister-item-content\").find_all('p')[2].find_all('a')\n",
        "        actors_name=''\n",
        "        for i in actors:\n",
        "            if actors_name=='':\n",
        "                actors_name=actors_name+i.text\n",
        "            else:\n",
        "                actors_name =actors_name+','+i.text\n",
        "        info =[rank,name,year,discription,director,actors_name,rating,genre,runtime,metadata,gross_earning,vote]\n",
        "        the_writer.writerow(info)"
      ],
      "metadata": {
        "id": "-2UxxHrUg85V"
      },
      "id": "-2UxxHrUg85V",
      "execution_count": null,
      "outputs": []
    },
    {
      "cell_type": "markdown",
      "id": "88b993a3",
      "metadata": {
        "id": "88b993a3"
      },
      "source": [
        "## Viewing the data:"
      ]
    },
    {
      "cell_type": "code",
      "execution_count": null,
      "id": "624e4097",
      "metadata": {
        "id": "624e4097"
      },
      "outputs": [],
      "source": [
        "import pandas as pd"
      ]
    },
    {
      "cell_type": "code",
      "execution_count": null,
      "id": "f90bc0aa",
      "metadata": {
        "id": "f90bc0aa"
      },
      "outputs": [],
      "source": [
        "data = pd.read_csv(\"FeaturedMoviesReleased2021.csv\",encoding='latin-1',index_col=0)"
      ]
    },
    {
      "cell_type": "code",
      "execution_count": null,
      "id": "79b00d7f",
      "metadata": {
        "id": "79b00d7f",
        "outputId": "c440591f-aa94-4dca-fbd5-321f0f364768"
      },
      "outputs": [
        {
          "data": {
            "text/html": [
              "<div>\n",
              "<style scoped>\n",
              "    .dataframe tbody tr th:only-of-type {\n",
              "        vertical-align: middle;\n",
              "    }\n",
              "\n",
              "    .dataframe tbody tr th {\n",
              "        vertical-align: top;\n",
              "    }\n",
              "\n",
              "    .dataframe thead th {\n",
              "        text-align: right;\n",
              "    }\n",
              "</style>\n",
              "<table border=\"1\" class=\"dataframe\">\n",
              "  <thead>\n",
              "    <tr style=\"text-align: right;\">\n",
              "      <th></th>\n",
              "      <th>Title</th>\n",
              "      <th>Year</th>\n",
              "      <th>Description</th>\n",
              "      <th>Director</th>\n",
              "      <th>Actor</th>\n",
              "      <th>IMDB Rating</th>\n",
              "      <th>Genre</th>\n",
              "      <th>Runtime</th>\n",
              "      <th>Metadata</th>\n",
              "      <th>Gross Earning</th>\n",
              "      <th>Vote</th>\n",
              "    </tr>\n",
              "    <tr>\n",
              "      <th>Rank</th>\n",
              "      <th></th>\n",
              "      <th></th>\n",
              "      <th></th>\n",
              "      <th></th>\n",
              "      <th></th>\n",
              "      <th></th>\n",
              "      <th></th>\n",
              "      <th></th>\n",
              "      <th></th>\n",
              "      <th></th>\n",
              "      <th></th>\n",
              "    </tr>\n",
              "  </thead>\n",
              "  <tbody>\n",
              "    <tr>\n",
              "      <th>1</th>\n",
              "      <td>The Shawshank Redemption</td>\n",
              "      <td>(1994)</td>\n",
              "      <td>\\nTwo imprisoned men bond over a number of yea...</td>\n",
              "      <td>Frank Darabont</td>\n",
              "      <td>Frank Darabont,Tim Robbins,Morgan Freeman,Bob ...</td>\n",
              "      <td>9.3</td>\n",
              "      <td>\\nDrama</td>\n",
              "      <td>142 min</td>\n",
              "      <td>81</td>\n",
              "      <td>$28.34M</td>\n",
              "      <td>2,648,769</td>\n",
              "    </tr>\n",
              "    <tr>\n",
              "      <th>2</th>\n",
              "      <td>The Godfather</td>\n",
              "      <td>(1972)</td>\n",
              "      <td>\\nThe aging patriarch of an organized crime dy...</td>\n",
              "      <td>Francis Ford Coppola</td>\n",
              "      <td>Francis Ford Coppola,Marlon Brando,Al Pacino,J...</td>\n",
              "      <td>9.2</td>\n",
              "      <td>\\nCrime, Drama</td>\n",
              "      <td>175 min</td>\n",
              "      <td>100</td>\n",
              "      <td>$134.97M</td>\n",
              "      <td>1,836,081</td>\n",
              "    </tr>\n",
              "    <tr>\n",
              "      <th>3</th>\n",
              "      <td>The Dark Knight</td>\n",
              "      <td>(2008)</td>\n",
              "      <td>\\nWhen the menace known as the Joker wreaks ha...</td>\n",
              "      <td>Christopher Nolan</td>\n",
              "      <td>Christopher Nolan,Christian Bale,Heath Ledger,...</td>\n",
              "      <td>9.0</td>\n",
              "      <td>\\nAction, Crime, Drama</td>\n",
              "      <td>152 min</td>\n",
              "      <td>84</td>\n",
              "      <td>$534.86M</td>\n",
              "      <td>2,620,732</td>\n",
              "    </tr>\n",
              "    <tr>\n",
              "      <th>4</th>\n",
              "      <td>The Lord of the Rings: The Return of the King</td>\n",
              "      <td>(2003)</td>\n",
              "      <td>\\nGandalf and Aragorn lead the World of Men ag...</td>\n",
              "      <td>Peter Jackson</td>\n",
              "      <td>Peter Jackson,Elijah Wood,Viggo Mortensen,Ian ...</td>\n",
              "      <td>9.0</td>\n",
              "      <td>\\nAction, Adventure, Drama</td>\n",
              "      <td>201 min</td>\n",
              "      <td>94</td>\n",
              "      <td>$377.85M</td>\n",
              "      <td>1,824,571</td>\n",
              "    </tr>\n",
              "    <tr>\n",
              "      <th>5</th>\n",
              "      <td>Schindler's List</td>\n",
              "      <td>(1993)</td>\n",
              "      <td>\\nIn German-occupied Poland during World War I...</td>\n",
              "      <td>Steven Spielberg</td>\n",
              "      <td>Steven Spielberg,Liam Neeson,Ralph Fiennes,Ben...</td>\n",
              "      <td>9.0</td>\n",
              "      <td>\\nBiography, Drama, History</td>\n",
              "      <td>195 min</td>\n",
              "      <td>94</td>\n",
              "      <td>$96.90M</td>\n",
              "      <td>1,342,423</td>\n",
              "    </tr>\n",
              "  </tbody>\n",
              "</table>\n",
              "</div>"
            ],
            "text/plain": [
              "                                              Title    Year  \\\n",
              "Rank                                                          \n",
              "1                          The Shawshank Redemption  (1994)   \n",
              "2                                     The Godfather  (1972)   \n",
              "3                                   The Dark Knight  (2008)   \n",
              "4     The Lord of the Rings: The Return of the King  (2003)   \n",
              "5                                  Schindler's List  (1993)   \n",
              "\n",
              "                                            Description              Director  \\\n",
              "Rank                                                                            \n",
              "1     \\nTwo imprisoned men bond over a number of yea...        Frank Darabont   \n",
              "2     \\nThe aging patriarch of an organized crime dy...  Francis Ford Coppola   \n",
              "3     \\nWhen the menace known as the Joker wreaks ha...     Christopher Nolan   \n",
              "4     \\nGandalf and Aragorn lead the World of Men ag...         Peter Jackson   \n",
              "5     \\nIn German-occupied Poland during World War I...      Steven Spielberg   \n",
              "\n",
              "                                                  Actor IMDB Rating  \\\n",
              "Rank                                                                  \n",
              "1     Frank Darabont,Tim Robbins,Morgan Freeman,Bob ...         9.3   \n",
              "2     Francis Ford Coppola,Marlon Brando,Al Pacino,J...         9.2   \n",
              "3     Christopher Nolan,Christian Bale,Heath Ledger,...         9.0   \n",
              "4     Peter Jackson,Elijah Wood,Viggo Mortensen,Ian ...         9.0   \n",
              "5     Steven Spielberg,Liam Neeson,Ralph Fiennes,Ben...         9.0   \n",
              "\n",
              "                                        Genre  Runtime     Metadata  \\\n",
              "Rank                                                                  \n",
              "1                         \\nDrama              142 min   81           \n",
              "2                  \\nCrime, Drama              175 min  100           \n",
              "3          \\nAction, Crime, Drama              152 min   84           \n",
              "4      \\nAction, Adventure, Drama              201 min   94           \n",
              "5     \\nBiography, Drama, History              195 min   94           \n",
              "\n",
              "     Gross Earning       Vote  \n",
              "Rank                           \n",
              "1          $28.34M  2,648,769  \n",
              "2         $134.97M  1,836,081  \n",
              "3         $534.86M  2,620,732  \n",
              "4         $377.85M  1,824,571  \n",
              "5          $96.90M  1,342,423  "
            ]
          },
          "execution_count": 72,
          "metadata": {},
          "output_type": "execute_result"
        }
      ],
      "source": [
        "# Top five rows of the dataset\n",
        "data.head()"
      ]
    },
    {
      "cell_type": "code",
      "execution_count": null,
      "id": "8db6b94e",
      "metadata": {
        "id": "8db6b94e",
        "outputId": "aca3705c-fe15-47d5-ca88-90d9b14a9589"
      },
      "outputs": [
        {
          "data": {
            "text/html": [
              "<div>\n",
              "<style scoped>\n",
              "    .dataframe tbody tr th:only-of-type {\n",
              "        vertical-align: middle;\n",
              "    }\n",
              "\n",
              "    .dataframe tbody tr th {\n",
              "        vertical-align: top;\n",
              "    }\n",
              "\n",
              "    .dataframe thead th {\n",
              "        text-align: right;\n",
              "    }\n",
              "</style>\n",
              "<table border=\"1\" class=\"dataframe\">\n",
              "  <thead>\n",
              "    <tr style=\"text-align: right;\">\n",
              "      <th></th>\n",
              "      <th>Title</th>\n",
              "      <th>Year</th>\n",
              "      <th>Description</th>\n",
              "      <th>Director</th>\n",
              "      <th>Actor</th>\n",
              "      <th>IMDB Rating</th>\n",
              "      <th>Genre</th>\n",
              "      <th>Runtime</th>\n",
              "      <th>Metadata</th>\n",
              "      <th>Gross Earning</th>\n",
              "      <th>Vote</th>\n",
              "    </tr>\n",
              "    <tr>\n",
              "      <th>Rank</th>\n",
              "      <th></th>\n",
              "      <th></th>\n",
              "      <th></th>\n",
              "      <th></th>\n",
              "      <th></th>\n",
              "      <th></th>\n",
              "      <th></th>\n",
              "      <th></th>\n",
              "      <th></th>\n",
              "      <th></th>\n",
              "      <th></th>\n",
              "    </tr>\n",
              "  </thead>\n",
              "  <tbody>\n",
              "    <tr>\n",
              "      <th>996</th>\n",
              "      <td>Sabrina</td>\n",
              "      <td>(1954)</td>\n",
              "      <td>\\nA playboy becomes interested in the daughter...</td>\n",
              "      <td>Billy Wilder</td>\n",
              "      <td>Billy Wilder,Humphrey Bogart,Audrey Hepburn,Wi...</td>\n",
              "      <td>7.6</td>\n",
              "      <td>\\nComedy, Drama, Romance</td>\n",
              "      <td>113 min</td>\n",
              "      <td>72</td>\n",
              "      <td>NaN</td>\n",
              "      <td>65,373</td>\n",
              "    </tr>\n",
              "    <tr>\n",
              "      <th>997</th>\n",
              "      <td>From Here to Eternity</td>\n",
              "      <td>(1953)</td>\n",
              "      <td>\\nAt a U.S. Army base in 1941 Hawaii, a privat...</td>\n",
              "      <td>Fred Zinnemann</td>\n",
              "      <td>Fred Zinnemann,Burt Lancaster,Montgomery Clift...</td>\n",
              "      <td>7.6</td>\n",
              "      <td>\\nDrama, Romance, War</td>\n",
              "      <td>118 min</td>\n",
              "      <td>85</td>\n",
              "      <td>$30.50M</td>\n",
              "      <td>47,276</td>\n",
              "    </tr>\n",
              "    <tr>\n",
              "      <th>998</th>\n",
              "      <td>Snow White and the Seven Dwarfs</td>\n",
              "      <td>(1937)</td>\n",
              "      <td>\\nExiled into the dangerous forest by her wick...</td>\n",
              "      <td>William Cottrell</td>\n",
              "      <td>William Cottrell,David Hand,Wilfred Jackson,La...</td>\n",
              "      <td>7.6</td>\n",
              "      <td>\\nAnimation, Adventure, Family</td>\n",
              "      <td>83 min</td>\n",
              "      <td>95</td>\n",
              "      <td>$184.93M</td>\n",
              "      <td>199,317</td>\n",
              "    </tr>\n",
              "    <tr>\n",
              "      <th>999</th>\n",
              "      <td>The 39 Steps</td>\n",
              "      <td>(1935)</td>\n",
              "      <td>\\nA man in London tries to help a counter-espi...</td>\n",
              "      <td>Alfred Hitchcock</td>\n",
              "      <td>Alfred Hitchcock,Robert Donat,Madeleine Carrol...</td>\n",
              "      <td>7.6</td>\n",
              "      <td>\\nCrime, Mystery, Thriller</td>\n",
              "      <td>86 min</td>\n",
              "      <td>93</td>\n",
              "      <td>NaN</td>\n",
              "      <td>57,281</td>\n",
              "    </tr>\n",
              "    <tr>\n",
              "      <th>1,000</th>\n",
              "      <td>The Invisible Man</td>\n",
              "      <td>(1933)</td>\n",
              "      <td>\\nA scientist finds a way of becoming invisibl...</td>\n",
              "      <td>James Whale</td>\n",
              "      <td>James Whale,Claude Rains,Gloria Stuart,William...</td>\n",
              "      <td>7.6</td>\n",
              "      <td>\\nHorror, Sci-Fi</td>\n",
              "      <td>71 min</td>\n",
              "      <td>87</td>\n",
              "      <td>NaN</td>\n",
              "      <td>35,376</td>\n",
              "    </tr>\n",
              "  </tbody>\n",
              "</table>\n",
              "</div>"
            ],
            "text/plain": [
              "                                 Title    Year  \\\n",
              "Rank                                             \n",
              "996                            Sabrina  (1954)   \n",
              "997              From Here to Eternity  (1953)   \n",
              "998    Snow White and the Seven Dwarfs  (1937)   \n",
              "999                       The 39 Steps  (1935)   \n",
              "1,000                The Invisible Man  (1933)   \n",
              "\n",
              "                                             Description          Director  \\\n",
              "Rank                                                                         \n",
              "996    \\nA playboy becomes interested in the daughter...      Billy Wilder   \n",
              "997    \\nAt a U.S. Army base in 1941 Hawaii, a privat...    Fred Zinnemann   \n",
              "998    \\nExiled into the dangerous forest by her wick...  William Cottrell   \n",
              "999    \\nA man in London tries to help a counter-espi...  Alfred Hitchcock   \n",
              "1,000  \\nA scientist finds a way of becoming invisibl...       James Whale   \n",
              "\n",
              "                                                   Actor IMDB Rating  \\\n",
              "Rank                                                                   \n",
              "996    Billy Wilder,Humphrey Bogart,Audrey Hepburn,Wi...         7.6   \n",
              "997    Fred Zinnemann,Burt Lancaster,Montgomery Clift...         7.6   \n",
              "998    William Cottrell,David Hand,Wilfred Jackson,La...         7.6   \n",
              "999    Alfred Hitchcock,Robert Donat,Madeleine Carrol...         7.6   \n",
              "1,000  James Whale,Claude Rains,Gloria Stuart,William...         7.6   \n",
              "\n",
              "                                            Genre  Runtime    Metadata  \\\n",
              "Rank                                                                     \n",
              "996          \\nComedy, Drama, Romance              113 min  72           \n",
              "997             \\nDrama, Romance, War              118 min  85           \n",
              "998    \\nAnimation, Adventure, Family               83 min  95           \n",
              "999        \\nCrime, Mystery, Thriller               86 min  93           \n",
              "1,000                \\nHorror, Sci-Fi               71 min  87           \n",
              "\n",
              "      Gross Earning     Vote  \n",
              "Rank                          \n",
              "996             NaN   65,373  \n",
              "997         $30.50M   47,276  \n",
              "998        $184.93M  199,317  \n",
              "999             NaN   57,281  \n",
              "1,000           NaN   35,376  "
            ]
          },
          "execution_count": 6,
          "metadata": {},
          "output_type": "execute_result"
        }
      ],
      "source": [
        "# viewing bottom five rows\n",
        "data.tail()"
      ]
    },
    {
      "cell_type": "markdown",
      "id": "0b58c49a",
      "metadata": {
        "id": "0b58c49a"
      },
      "source": [
        "Clearly this data is not suitable for analysis purpose. For example Votes contain commas in between them which cannot be handled \n",
        "during analysis.Thus we need to clean the data first."
      ]
    },
    {
      "cell_type": "markdown",
      "id": "fa68033c",
      "metadata": {
        "id": "fa68033c"
      },
      "source": [
        "## Data Cleaning:"
      ]
    },
    {
      "cell_type": "code",
      "execution_count": null,
      "id": "0c649654",
      "metadata": {
        "id": "0c649654"
      },
      "outputs": [],
      "source": [
        "data['Vote'] =[vote.replace(',','')for vote in data['Vote']]\n",
        "data['Year']= [year.replace('(','').replace(')','').strip('I').strip('II').strip(' ') for year in data['Year']]\n",
        "data['Description'] =[description.replace('\\n','') for description in data['Description']]\n",
        "data['Genre'] =[genre.replace('\\n','') for genre in data['Genre']]\n",
        "data['Runtime'] =[runtime.replace('min','') for runtime in data['Runtime']]"
      ]
    },
    {
      "cell_type": "code",
      "execution_count": null,
      "id": "96468543",
      "metadata": {
        "id": "96468543",
        "outputId": "ed5bdde2-8f66-4379-f5f8-80039cd3ee5a"
      },
      "outputs": [
        {
          "data": {
            "text/html": [
              "<div>\n",
              "<style scoped>\n",
              "    .dataframe tbody tr th:only-of-type {\n",
              "        vertical-align: middle;\n",
              "    }\n",
              "\n",
              "    .dataframe tbody tr th {\n",
              "        vertical-align: top;\n",
              "    }\n",
              "\n",
              "    .dataframe thead th {\n",
              "        text-align: right;\n",
              "    }\n",
              "</style>\n",
              "<table border=\"1\" class=\"dataframe\">\n",
              "  <thead>\n",
              "    <tr style=\"text-align: right;\">\n",
              "      <th></th>\n",
              "      <th>Title</th>\n",
              "      <th>Year</th>\n",
              "      <th>Description</th>\n",
              "      <th>Director</th>\n",
              "      <th>Actor</th>\n",
              "      <th>IMDB Rating</th>\n",
              "      <th>Genre</th>\n",
              "      <th>Runtime</th>\n",
              "      <th>Metadata</th>\n",
              "      <th>Gross Earning</th>\n",
              "      <th>Vote</th>\n",
              "    </tr>\n",
              "    <tr>\n",
              "      <th>Rank</th>\n",
              "      <th></th>\n",
              "      <th></th>\n",
              "      <th></th>\n",
              "      <th></th>\n",
              "      <th></th>\n",
              "      <th></th>\n",
              "      <th></th>\n",
              "      <th></th>\n",
              "      <th></th>\n",
              "      <th></th>\n",
              "      <th></th>\n",
              "    </tr>\n",
              "  </thead>\n",
              "  <tbody>\n",
              "    <tr>\n",
              "      <th>1</th>\n",
              "      <td>The Shawshank Redemption</td>\n",
              "      <td>1994</td>\n",
              "      <td>Two imprisoned men bond over a number of years...</td>\n",
              "      <td>Frank Darabont</td>\n",
              "      <td>Frank Darabont,Tim Robbins,Morgan Freeman,Bob ...</td>\n",
              "      <td>9.3</td>\n",
              "      <td>Drama</td>\n",
              "      <td>142</td>\n",
              "      <td>81</td>\n",
              "      <td>28.34</td>\n",
              "      <td>2648769</td>\n",
              "    </tr>\n",
              "    <tr>\n",
              "      <th>2</th>\n",
              "      <td>The Godfather</td>\n",
              "      <td>1972</td>\n",
              "      <td>The aging patriarch of an organized crime dyna...</td>\n",
              "      <td>Francis Ford Coppola</td>\n",
              "      <td>Francis Ford Coppola,Marlon Brando,Al Pacino,J...</td>\n",
              "      <td>9.2</td>\n",
              "      <td>Crime, Drama</td>\n",
              "      <td>175</td>\n",
              "      <td>100</td>\n",
              "      <td>134.97</td>\n",
              "      <td>1836081</td>\n",
              "    </tr>\n",
              "    <tr>\n",
              "      <th>3</th>\n",
              "      <td>The Dark Knight</td>\n",
              "      <td>2008</td>\n",
              "      <td>When the menace known as the Joker wreaks havo...</td>\n",
              "      <td>Christopher Nolan</td>\n",
              "      <td>Christopher Nolan,Christian Bale,Heath Ledger,...</td>\n",
              "      <td>9.0</td>\n",
              "      <td>Action, Crime, Drama</td>\n",
              "      <td>152</td>\n",
              "      <td>84</td>\n",
              "      <td>534.86</td>\n",
              "      <td>2620732</td>\n",
              "    </tr>\n",
              "    <tr>\n",
              "      <th>4</th>\n",
              "      <td>The Lord of the Rings: The Return of the King</td>\n",
              "      <td>2003</td>\n",
              "      <td>Gandalf and Aragorn lead the World of Men agai...</td>\n",
              "      <td>Peter Jackson</td>\n",
              "      <td>Peter Jackson,Elijah Wood,Viggo Mortensen,Ian ...</td>\n",
              "      <td>9.0</td>\n",
              "      <td>Action, Adventure, Drama</td>\n",
              "      <td>201</td>\n",
              "      <td>94</td>\n",
              "      <td>377.85</td>\n",
              "      <td>1824571</td>\n",
              "    </tr>\n",
              "    <tr>\n",
              "      <th>5</th>\n",
              "      <td>Schindler's List</td>\n",
              "      <td>1993</td>\n",
              "      <td>In German-occupied Poland during World War II,...</td>\n",
              "      <td>Steven Spielberg</td>\n",
              "      <td>Steven Spielberg,Liam Neeson,Ralph Fiennes,Ben...</td>\n",
              "      <td>9.0</td>\n",
              "      <td>Biography, Drama, History</td>\n",
              "      <td>195</td>\n",
              "      <td>94</td>\n",
              "      <td>96.90</td>\n",
              "      <td>1342423</td>\n",
              "    </tr>\n",
              "    <tr>\n",
              "      <th>6</th>\n",
              "      <td>The Godfather Part II</td>\n",
              "      <td>1974</td>\n",
              "      <td>The early life and career of Vito Corleone in ...</td>\n",
              "      <td>Francis Ford Coppola</td>\n",
              "      <td>Francis Ford Coppola,Al Pacino,Robert De Niro,...</td>\n",
              "      <td>9.0</td>\n",
              "      <td>Crime, Drama</td>\n",
              "      <td>202</td>\n",
              "      <td>90</td>\n",
              "      <td>57.30</td>\n",
              "      <td>1258236</td>\n",
              "    </tr>\n",
              "    <tr>\n",
              "      <th>7</th>\n",
              "      <td>12 Angry Men</td>\n",
              "      <td>1957</td>\n",
              "      <td>The jury in a New York City murder trial is fr...</td>\n",
              "      <td>Sidney Lumet</td>\n",
              "      <td>Sidney Lumet,Henry Fonda,Lee J. Cobb,Martin Ba...</td>\n",
              "      <td>9.0</td>\n",
              "      <td>Crime, Drama</td>\n",
              "      <td>96</td>\n",
              "      <td>96</td>\n",
              "      <td>4.36</td>\n",
              "      <td>782059</td>\n",
              "    </tr>\n",
              "    <tr>\n",
              "      <th>8</th>\n",
              "      <td>Rocketry: The Nambi Effect</td>\n",
              "      <td>2022</td>\n",
              "      <td>Based on the life of Indian Space Research Org...</td>\n",
              "      <td>Madhavan</td>\n",
              "      <td>Madhavan,Madhavan,Simran,Rajit Kapoor,Ravi Rag...</td>\n",
              "      <td>8.9</td>\n",
              "      <td>Biography, Drama</td>\n",
              "      <td>157</td>\n",
              "      <td>NaN</td>\n",
              "      <td>NaN</td>\n",
              "      <td>46731</td>\n",
              "    </tr>\n",
              "    <tr>\n",
              "      <th>9</th>\n",
              "      <td>Jai Bhim</td>\n",
              "      <td>2021</td>\n",
              "      <td>When a tribal man is arrested for a case of al...</td>\n",
              "      <td>T.J. Gnanavel</td>\n",
              "      <td>T.J. Gnanavel,Suriya,Lijo Mol Jose,Manikandan ...</td>\n",
              "      <td>8.9</td>\n",
              "      <td>Crime, Drama, Mystery</td>\n",
              "      <td>164</td>\n",
              "      <td>NaN</td>\n",
              "      <td>231</td>\n",
              "      <td>199053</td>\n",
              "    </tr>\n",
              "    <tr>\n",
              "      <th>10</th>\n",
              "      <td>Pulp Fiction</td>\n",
              "      <td>1994</td>\n",
              "      <td>The lives of two mob hitmen, a boxer, a gangst...</td>\n",
              "      <td>Quentin Tarantino</td>\n",
              "      <td>Quentin Tarantino,John Travolta,Uma Thurman,Sa...</td>\n",
              "      <td>8.9</td>\n",
              "      <td>Crime, Drama</td>\n",
              "      <td>154</td>\n",
              "      <td>94</td>\n",
              "      <td>107.93</td>\n",
              "      <td>2027419</td>\n",
              "    </tr>\n",
              "    <tr>\n",
              "      <th>11</th>\n",
              "      <td>Inception</td>\n",
              "      <td>2010</td>\n",
              "      <td>A thief who steals corporate secrets through t...</td>\n",
              "      <td>Christopher Nolan</td>\n",
              "      <td>Christopher Nolan,Leonardo DiCaprio,Joseph Gor...</td>\n",
              "      <td>8.8</td>\n",
              "      <td>Action, Adventure, Sci-Fi</td>\n",
              "      <td>148</td>\n",
              "      <td>74</td>\n",
              "      <td>292.58</td>\n",
              "      <td>2322771</td>\n",
              "    </tr>\n",
              "    <tr>\n",
              "      <th>12</th>\n",
              "      <td>The Lord of the Rings: The Two Towers</td>\n",
              "      <td>2002</td>\n",
              "      <td>While Frodo and Sam edge closer to Mordor with...</td>\n",
              "      <td>Peter Jackson</td>\n",
              "      <td>Peter Jackson,Elijah Wood,Ian McKellen,Viggo M...</td>\n",
              "      <td>8.8</td>\n",
              "      <td>Action, Adventure, Drama</td>\n",
              "      <td>179</td>\n",
              "      <td>87</td>\n",
              "      <td>342.55</td>\n",
              "      <td>1647534</td>\n",
              "    </tr>\n",
              "    <tr>\n",
              "      <th>13</th>\n",
              "      <td>Fight Club</td>\n",
              "      <td>1999</td>\n",
              "      <td>An insomniac office worker and a devil-may-car...</td>\n",
              "      <td>David Fincher</td>\n",
              "      <td>David Fincher,Brad Pitt,Edward Norton,Meat Loa...</td>\n",
              "      <td>8.8</td>\n",
              "      <td>Drama</td>\n",
              "      <td>139</td>\n",
              "      <td>66</td>\n",
              "      <td>37.03</td>\n",
              "      <td>2093743</td>\n",
              "    </tr>\n",
              "    <tr>\n",
              "      <th>14</th>\n",
              "      <td>The Lord of the Rings: The Fellowship of the Ring</td>\n",
              "      <td>2001</td>\n",
              "      <td>A meek Hobbit from the Shire and eight compani...</td>\n",
              "      <td>Peter Jackson</td>\n",
              "      <td>Peter Jackson,Elijah Wood,Ian McKellen,Orlando...</td>\n",
              "      <td>8.8</td>\n",
              "      <td>Action, Adventure, Drama</td>\n",
              "      <td>178</td>\n",
              "      <td>92</td>\n",
              "      <td>315.54</td>\n",
              "      <td>1851261</td>\n",
              "    </tr>\n",
              "    <tr>\n",
              "      <th>15</th>\n",
              "      <td>Forrest Gump</td>\n",
              "      <td>1994</td>\n",
              "      <td>The presidencies of Kennedy and Johnson, the V...</td>\n",
              "      <td>Robert Zemeckis</td>\n",
              "      <td>Robert Zemeckis,Tom Hanks,Robin Wright,Gary Si...</td>\n",
              "      <td>8.8</td>\n",
              "      <td>Drama, Romance</td>\n",
              "      <td>142</td>\n",
              "      <td>82</td>\n",
              "      <td>330.25</td>\n",
              "      <td>2051175</td>\n",
              "    </tr>\n",
              "  </tbody>\n",
              "</table>\n",
              "</div>"
            ],
            "text/plain": [
              "                                                  Title  Year  \\\n",
              "Rank                                                            \n",
              "1                              The Shawshank Redemption  1994   \n",
              "2                                         The Godfather  1972   \n",
              "3                                       The Dark Knight  2008   \n",
              "4         The Lord of the Rings: The Return of the King  2003   \n",
              "5                                      Schindler's List  1993   \n",
              "6                                 The Godfather Part II  1974   \n",
              "7                                          12 Angry Men  1957   \n",
              "8                            Rocketry: The Nambi Effect  2022   \n",
              "9                                              Jai Bhim  2021   \n",
              "10                                         Pulp Fiction  1994   \n",
              "11                                            Inception  2010   \n",
              "12                The Lord of the Rings: The Two Towers  2002   \n",
              "13                                           Fight Club  1999   \n",
              "14    The Lord of the Rings: The Fellowship of the Ring  2001   \n",
              "15                                         Forrest Gump  1994   \n",
              "\n",
              "                                            Description              Director  \\\n",
              "Rank                                                                            \n",
              "1     Two imprisoned men bond over a number of years...        Frank Darabont   \n",
              "2     The aging patriarch of an organized crime dyna...  Francis Ford Coppola   \n",
              "3     When the menace known as the Joker wreaks havo...     Christopher Nolan   \n",
              "4     Gandalf and Aragorn lead the World of Men agai...         Peter Jackson   \n",
              "5     In German-occupied Poland during World War II,...      Steven Spielberg   \n",
              "6     The early life and career of Vito Corleone in ...  Francis Ford Coppola   \n",
              "7     The jury in a New York City murder trial is fr...          Sidney Lumet   \n",
              "8     Based on the life of Indian Space Research Org...              Madhavan   \n",
              "9     When a tribal man is arrested for a case of al...         T.J. Gnanavel   \n",
              "10    The lives of two mob hitmen, a boxer, a gangst...     Quentin Tarantino   \n",
              "11    A thief who steals corporate secrets through t...     Christopher Nolan   \n",
              "12    While Frodo and Sam edge closer to Mordor with...         Peter Jackson   \n",
              "13    An insomniac office worker and a devil-may-car...         David Fincher   \n",
              "14    A meek Hobbit from the Shire and eight compani...         Peter Jackson   \n",
              "15    The presidencies of Kennedy and Johnson, the V...       Robert Zemeckis   \n",
              "\n",
              "                                                  Actor IMDB Rating  \\\n",
              "Rank                                                                  \n",
              "1     Frank Darabont,Tim Robbins,Morgan Freeman,Bob ...         9.3   \n",
              "2     Francis Ford Coppola,Marlon Brando,Al Pacino,J...         9.2   \n",
              "3     Christopher Nolan,Christian Bale,Heath Ledger,...         9.0   \n",
              "4     Peter Jackson,Elijah Wood,Viggo Mortensen,Ian ...         9.0   \n",
              "5     Steven Spielberg,Liam Neeson,Ralph Fiennes,Ben...         9.0   \n",
              "6     Francis Ford Coppola,Al Pacino,Robert De Niro,...         9.0   \n",
              "7     Sidney Lumet,Henry Fonda,Lee J. Cobb,Martin Ba...         9.0   \n",
              "8     Madhavan,Madhavan,Simran,Rajit Kapoor,Ravi Rag...         8.9   \n",
              "9     T.J. Gnanavel,Suriya,Lijo Mol Jose,Manikandan ...         8.9   \n",
              "10    Quentin Tarantino,John Travolta,Uma Thurman,Sa...         8.9   \n",
              "11    Christopher Nolan,Leonardo DiCaprio,Joseph Gor...         8.8   \n",
              "12    Peter Jackson,Elijah Wood,Ian McKellen,Viggo M...         8.8   \n",
              "13    David Fincher,Brad Pitt,Edward Norton,Meat Loa...         8.8   \n",
              "14    Peter Jackson,Elijah Wood,Ian McKellen,Orlando...         8.8   \n",
              "15    Robert Zemeckis,Tom Hanks,Robin Wright,Gary Si...         8.8   \n",
              "\n",
              "                                      Genre Runtime     Metadata  \\\n",
              "Rank                                                               \n",
              "1                         Drama                142    81           \n",
              "2                  Crime, Drama                175   100           \n",
              "3          Action, Crime, Drama                152    84           \n",
              "4      Action, Adventure, Drama                201    94           \n",
              "5     Biography, Drama, History                195    94           \n",
              "6                  Crime, Drama                202    90           \n",
              "7                  Crime, Drama                 96    96           \n",
              "8              Biography, Drama                157           NaN   \n",
              "9         Crime, Drama, Mystery                164           NaN   \n",
              "10                 Crime, Drama                154    94           \n",
              "11    Action, Adventure, Sci-Fi                148    74           \n",
              "12     Action, Adventure, Drama                179    87           \n",
              "13                        Drama                139    66           \n",
              "14     Action, Adventure, Drama                178    92           \n",
              "15               Drama, Romance                142    82           \n",
              "\n",
              "     Gross Earning     Vote  \n",
              "Rank                         \n",
              "1            28.34  2648769  \n",
              "2           134.97  1836081  \n",
              "3           534.86  2620732  \n",
              "4           377.85  1824571  \n",
              "5            96.90  1342423  \n",
              "6            57.30  1258236  \n",
              "7             4.36   782059  \n",
              "8              NaN    46731  \n",
              "9              231   199053  \n",
              "10          107.93  2027419  \n",
              "11          292.58  2322771  \n",
              "12          342.55  1647534  \n",
              "13           37.03  2093743  \n",
              "14          315.54  1851261  \n",
              "15          330.25  2051175  "
            ]
          },
          "execution_count": 74,
          "metadata": {},
          "output_type": "execute_result"
        }
      ],
      "source": [
        "list =[]\n",
        "for item in data['Gross Earning']:\n",
        "    if type(item) is str:\n",
        "        item=item.strip('\\n').strip('$').strip('M').strip('#')\n",
        "        list.append(item)\n",
        "    else:\n",
        "        list.append(item)\n",
        "        \n",
        "data['Gross Earning'] = list\n",
        "data.head(15)"
      ]
    },
    {
      "cell_type": "code",
      "execution_count": null,
      "id": "e55ed8f2",
      "metadata": {
        "id": "e55ed8f2",
        "outputId": "da4cdf67-3a9d-4683-bbba-e9103a2035b7"
      },
      "outputs": [
        {
          "name": "stdout",
          "output_type": "stream",
          "text": [
            "<class 'pandas.core.frame.DataFrame'>\n",
            "Index: 1009 entries, 1 to 1,000\n",
            "Data columns (total 11 columns):\n",
            " #   Column         Non-Null Count  Dtype \n",
            "---  ------         --------------  ----- \n",
            " 0   Title          1009 non-null   object\n",
            " 1   Year           1009 non-null   object\n",
            " 2   Description    1009 non-null   object\n",
            " 3   Director       1009 non-null   object\n",
            " 4   Actor          1009 non-null   object\n",
            " 5   IMDB Rating    1009 non-null   object\n",
            " 6   Genre          1009 non-null   object\n",
            " 7   Runtime        1009 non-null   object\n",
            " 8   Metadata       848 non-null    object\n",
            " 9   Gross Earning  856 non-null    object\n",
            " 10  Vote           1009 non-null   object\n",
            "dtypes: object(11)\n",
            "memory usage: 94.6+ KB\n"
          ]
        }
      ],
      "source": [
        "data.info()"
      ]
    },
    {
      "cell_type": "markdown",
      "id": "4f03ed20",
      "metadata": {
        "id": "4f03ed20"
      },
      "source": [
        "# Size"
      ]
    },
    {
      "cell_type": "code",
      "execution_count": null,
      "id": "cdfc7a7e",
      "metadata": {
        "id": "cdfc7a7e",
        "outputId": "2e71796b-36b4-4ade-9d34-8fbe0673cd71"
      },
      "outputs": [
        {
          "data": {
            "text/plain": [
              "(1009, 11)"
            ]
          },
          "execution_count": 66,
          "metadata": {},
          "output_type": "execute_result"
        }
      ],
      "source": [
        "data.shape"
      ]
    },
    {
      "cell_type": "markdown",
      "id": "c9d9d88f",
      "metadata": {
        "id": "c9d9d88f"
      },
      "source": [
        "clearly there are some duplicate rows.Lets remove them and save the cleaned data in new file."
      ]
    },
    {
      "cell_type": "markdown",
      "id": "80a597f0",
      "metadata": {
        "id": "80a597f0"
      },
      "source": [
        "# Removing Duplicate data"
      ]
    },
    {
      "cell_type": "code",
      "execution_count": null,
      "id": "5b8befbd",
      "metadata": {
        "id": "5b8befbd",
        "outputId": "5a7cc9f8-5679-4732-e0f8-fc5a2b846915"
      },
      "outputs": [
        {
          "data": {
            "text/html": [
              "<div>\n",
              "<style scoped>\n",
              "    .dataframe tbody tr th:only-of-type {\n",
              "        vertical-align: middle;\n",
              "    }\n",
              "\n",
              "    .dataframe tbody tr th {\n",
              "        vertical-align: top;\n",
              "    }\n",
              "\n",
              "    .dataframe thead th {\n",
              "        text-align: right;\n",
              "    }\n",
              "</style>\n",
              "<table border=\"1\" class=\"dataframe\">\n",
              "  <thead>\n",
              "    <tr style=\"text-align: right;\">\n",
              "      <th></th>\n",
              "      <th>Title</th>\n",
              "      <th>Year</th>\n",
              "      <th>Description</th>\n",
              "      <th>Director</th>\n",
              "      <th>Actor</th>\n",
              "      <th>IMDB Rating</th>\n",
              "      <th>Genre</th>\n",
              "      <th>Runtime</th>\n",
              "      <th>Metadata</th>\n",
              "      <th>Gross Earning</th>\n",
              "      <th>Vote</th>\n",
              "    </tr>\n",
              "    <tr>\n",
              "      <th>Rank</th>\n",
              "      <th></th>\n",
              "      <th></th>\n",
              "      <th></th>\n",
              "      <th></th>\n",
              "      <th></th>\n",
              "      <th></th>\n",
              "      <th></th>\n",
              "      <th></th>\n",
              "      <th></th>\n",
              "      <th></th>\n",
              "      <th></th>\n",
              "    </tr>\n",
              "  </thead>\n",
              "  <tbody>\n",
              "    <tr>\n",
              "      <th>Rank</th>\n",
              "      <td>Title</td>\n",
              "      <td>Year</td>\n",
              "      <td>Description</td>\n",
              "      <td>Director</td>\n",
              "      <td>Actor</td>\n",
              "      <td>IMDB Rating</td>\n",
              "      <td>Genre</td>\n",
              "      <td>Runtime</td>\n",
              "      <td>Metadata</td>\n",
              "      <td>Gross Earning</td>\n",
              "      <td>Vote</td>\n",
              "    </tr>\n",
              "    <tr>\n",
              "      <th>Rank</th>\n",
              "      <td>Title</td>\n",
              "      <td>Year</td>\n",
              "      <td>Description</td>\n",
              "      <td>Director</td>\n",
              "      <td>Actor</td>\n",
              "      <td>IMDB Rating</td>\n",
              "      <td>Genre</td>\n",
              "      <td>Runtime</td>\n",
              "      <td>Metadata</td>\n",
              "      <td>Gross Earning</td>\n",
              "      <td>Vote</td>\n",
              "    </tr>\n",
              "    <tr>\n",
              "      <th>Rank</th>\n",
              "      <td>Title</td>\n",
              "      <td>Year</td>\n",
              "      <td>Description</td>\n",
              "      <td>Director</td>\n",
              "      <td>Actor</td>\n",
              "      <td>IMDB Rating</td>\n",
              "      <td>Genre</td>\n",
              "      <td>Runtime</td>\n",
              "      <td>Metadata</td>\n",
              "      <td>Gross Earning</td>\n",
              "      <td>Vote</td>\n",
              "    </tr>\n",
              "    <tr>\n",
              "      <th>Rank</th>\n",
              "      <td>Title</td>\n",
              "      <td>Year</td>\n",
              "      <td>Description</td>\n",
              "      <td>Director</td>\n",
              "      <td>Actor</td>\n",
              "      <td>IMDB Rating</td>\n",
              "      <td>Genre</td>\n",
              "      <td>Runtime</td>\n",
              "      <td>Metadata</td>\n",
              "      <td>Gross Earning</td>\n",
              "      <td>Vote</td>\n",
              "    </tr>\n",
              "    <tr>\n",
              "      <th>Rank</th>\n",
              "      <td>Title</td>\n",
              "      <td>Year</td>\n",
              "      <td>Description</td>\n",
              "      <td>Director</td>\n",
              "      <td>Actor</td>\n",
              "      <td>IMDB Rating</td>\n",
              "      <td>Genre</td>\n",
              "      <td>Runtime</td>\n",
              "      <td>Metadata</td>\n",
              "      <td>Gross Earning</td>\n",
              "      <td>Vote</td>\n",
              "    </tr>\n",
              "    <tr>\n",
              "      <th>Rank</th>\n",
              "      <td>Title</td>\n",
              "      <td>Year</td>\n",
              "      <td>Description</td>\n",
              "      <td>Director</td>\n",
              "      <td>Actor</td>\n",
              "      <td>IMDB Rating</td>\n",
              "      <td>Genre</td>\n",
              "      <td>Runtime</td>\n",
              "      <td>Metadata</td>\n",
              "      <td>Gross Earning</td>\n",
              "      <td>Vote</td>\n",
              "    </tr>\n",
              "    <tr>\n",
              "      <th>Rank</th>\n",
              "      <td>Title</td>\n",
              "      <td>Year</td>\n",
              "      <td>Description</td>\n",
              "      <td>Director</td>\n",
              "      <td>Actor</td>\n",
              "      <td>IMDB Rating</td>\n",
              "      <td>Genre</td>\n",
              "      <td>Runtime</td>\n",
              "      <td>Metadata</td>\n",
              "      <td>Gross Earning</td>\n",
              "      <td>Vote</td>\n",
              "    </tr>\n",
              "    <tr>\n",
              "      <th>Rank</th>\n",
              "      <td>Title</td>\n",
              "      <td>Year</td>\n",
              "      <td>Description</td>\n",
              "      <td>Director</td>\n",
              "      <td>Actor</td>\n",
              "      <td>IMDB Rating</td>\n",
              "      <td>Genre</td>\n",
              "      <td>Runtime</td>\n",
              "      <td>Metadata</td>\n",
              "      <td>Gross Earning</td>\n",
              "      <td>Vote</td>\n",
              "    </tr>\n",
              "  </tbody>\n",
              "</table>\n",
              "</div>"
            ],
            "text/plain": [
              "      Title  Year  Description  Director  Actor  IMDB Rating  Genre  Runtime  \\\n",
              "Rank                                                                           \n",
              "Rank  Title  Year  Description  Director  Actor  IMDB Rating  Genre  Runtime   \n",
              "Rank  Title  Year  Description  Director  Actor  IMDB Rating  Genre  Runtime   \n",
              "Rank  Title  Year  Description  Director  Actor  IMDB Rating  Genre  Runtime   \n",
              "Rank  Title  Year  Description  Director  Actor  IMDB Rating  Genre  Runtime   \n",
              "Rank  Title  Year  Description  Director  Actor  IMDB Rating  Genre  Runtime   \n",
              "Rank  Title  Year  Description  Director  Actor  IMDB Rating  Genre  Runtime   \n",
              "Rank  Title  Year  Description  Director  Actor  IMDB Rating  Genre  Runtime   \n",
              "Rank  Title  Year  Description  Director  Actor  IMDB Rating  Genre  Runtime   \n",
              "\n",
              "      Metadata  Gross Earning  Vote  \n",
              "Rank                                 \n",
              "Rank  Metadata  Gross Earning  Vote  \n",
              "Rank  Metadata  Gross Earning  Vote  \n",
              "Rank  Metadata  Gross Earning  Vote  \n",
              "Rank  Metadata  Gross Earning  Vote  \n",
              "Rank  Metadata  Gross Earning  Vote  \n",
              "Rank  Metadata  Gross Earning  Vote  \n",
              "Rank  Metadata  Gross Earning  Vote  \n",
              "Rank  Metadata  Gross Earning  Vote  "
            ]
          },
          "execution_count": 94,
          "metadata": {},
          "output_type": "execute_result"
        }
      ],
      "source": [
        "data[data.duplicated(subset = None, keep ='first')]"
      ]
    },
    {
      "cell_type": "code",
      "execution_count": null,
      "id": "6f24e67e",
      "metadata": {
        "id": "6f24e67e"
      },
      "outputs": [],
      "source": [
        "df=data.drop_duplicates(keep=False)"
      ]
    },
    {
      "cell_type": "code",
      "execution_count": null,
      "id": "b29d2aed",
      "metadata": {
        "id": "b29d2aed"
      },
      "outputs": [],
      "source": [
        "df.to_csv('cleaned1000movies.csv')"
      ]
    },
    {
      "cell_type": "code",
      "execution_count": null,
      "id": "fbd2a3c1",
      "metadata": {
        "id": "fbd2a3c1"
      },
      "outputs": [],
      "source": [
        "cleaned_data =pd.read_csv('cleaned1000movies.csv',index_col=0)"
      ]
    },
    {
      "cell_type": "code",
      "execution_count": null,
      "id": "7f0188e5",
      "metadata": {
        "id": "7f0188e5",
        "outputId": "28d87e47-9cc6-47d4-b96c-54ff88a76d33"
      },
      "outputs": [
        {
          "data": {
            "text/plain": [
              "(1000, 11)"
            ]
          },
          "execution_count": 83,
          "metadata": {},
          "output_type": "execute_result"
        }
      ],
      "source": [
        "cleaned_data.shape"
      ]
    },
    {
      "cell_type": "code",
      "execution_count": null,
      "id": "8fd14318",
      "metadata": {
        "id": "8fd14318",
        "outputId": "ee8ebe07-014b-403d-ca07-b28583319060"
      },
      "outputs": [
        {
          "name": "stdout",
          "output_type": "stream",
          "text": [
            "Number of rows : 1000\n",
            "Number of columns: 11\n"
          ]
        }
      ],
      "source": [
        "print(\"Number of rows :\",cleaned_data.shape[0])\n",
        "print(\"Number of columns:\" , cleaned_data.shape[1])"
      ]
    },
    {
      "cell_type": "markdown",
      "id": "d6634076",
      "metadata": {
        "id": "d6634076"
      },
      "source": [
        "# Info of Data"
      ]
    },
    {
      "cell_type": "code",
      "execution_count": null,
      "id": "4994922f",
      "metadata": {
        "id": "4994922f",
        "outputId": "c8817c48-efee-485f-c2f1-b3aa6509c328"
      },
      "outputs": [
        {
          "name": "stdout",
          "output_type": "stream",
          "text": [
            "<class 'pandas.core.frame.DataFrame'>\n",
            "Index: 1000 entries, 1 to 1,000\n",
            "Data columns (total 11 columns):\n",
            " #   Column         Non-Null Count  Dtype  \n",
            "---  ------         --------------  -----  \n",
            " 0   Title          1000 non-null   object \n",
            " 1   Year           1000 non-null   int64  \n",
            " 2   Description    1000 non-null   object \n",
            " 3   Director       1000 non-null   object \n",
            " 4   Actor          1000 non-null   object \n",
            " 5   IMDB Rating    1000 non-null   float64\n",
            " 6   Genre          1000 non-null   object \n",
            " 7   Runtime        1000 non-null   int64  \n",
            " 8   Metadata       839 non-null    float64\n",
            " 9   Gross Earning  847 non-null    float64\n",
            " 10  Vote           1000 non-null   int64  \n",
            "dtypes: float64(3), int64(3), object(5)\n",
            "memory usage: 93.8+ KB\n"
          ]
        }
      ],
      "source": [
        "cleaned_data.info()"
      ]
    },
    {
      "cell_type": "markdown",
      "id": "dc68bae1",
      "metadata": {
        "id": "dc68bae1"
      },
      "source": [
        "Result:\n",
        "* Number of entries are 1000 indexing from 1 to 1000\n",
        "* Number of columns are 11.\n",
        "* Clearly there are some null values in the column 'Gross Earning' and 'Metadata'.\n",
        "* We have 3 column with float datatype , 5 column with object datatype and 3 column with integer datatype.\n"
      ]
    },
    {
      "cell_type": "markdown",
      "id": "ce3cc303",
      "metadata": {
        "id": "ce3cc303"
      },
      "source": [
        "## Missing values:"
      ]
    },
    {
      "cell_type": "code",
      "execution_count": null,
      "id": "e2acfdfb",
      "metadata": {
        "id": "e2acfdfb",
        "outputId": "0d36a60e-2235-45a3-eb97-81ba42a9d984"
      },
      "outputs": [
        {
          "data": {
            "text/html": [
              "<div>\n",
              "<style scoped>\n",
              "    .dataframe tbody tr th:only-of-type {\n",
              "        vertical-align: middle;\n",
              "    }\n",
              "\n",
              "    .dataframe tbody tr th {\n",
              "        vertical-align: top;\n",
              "    }\n",
              "\n",
              "    .dataframe thead th {\n",
              "        text-align: right;\n",
              "    }\n",
              "</style>\n",
              "<table border=\"1\" class=\"dataframe\">\n",
              "  <thead>\n",
              "    <tr style=\"text-align: right;\">\n",
              "      <th></th>\n",
              "      <th>Title</th>\n",
              "      <th>Year</th>\n",
              "      <th>Description</th>\n",
              "      <th>Director</th>\n",
              "      <th>Actor</th>\n",
              "      <th>IMDB Rating</th>\n",
              "      <th>Genre</th>\n",
              "      <th>Runtime</th>\n",
              "      <th>Metadata</th>\n",
              "      <th>Gross Earning</th>\n",
              "      <th>Vote</th>\n",
              "    </tr>\n",
              "    <tr>\n",
              "      <th>Rank</th>\n",
              "      <th></th>\n",
              "      <th></th>\n",
              "      <th></th>\n",
              "      <th></th>\n",
              "      <th></th>\n",
              "      <th></th>\n",
              "      <th></th>\n",
              "      <th></th>\n",
              "      <th></th>\n",
              "      <th></th>\n",
              "      <th></th>\n",
              "    </tr>\n",
              "  </thead>\n",
              "  <tbody>\n",
              "    <tr>\n",
              "      <th>1</th>\n",
              "      <td>False</td>\n",
              "      <td>False</td>\n",
              "      <td>False</td>\n",
              "      <td>False</td>\n",
              "      <td>False</td>\n",
              "      <td>False</td>\n",
              "      <td>False</td>\n",
              "      <td>False</td>\n",
              "      <td>False</td>\n",
              "      <td>False</td>\n",
              "      <td>False</td>\n",
              "    </tr>\n",
              "    <tr>\n",
              "      <th>2</th>\n",
              "      <td>False</td>\n",
              "      <td>False</td>\n",
              "      <td>False</td>\n",
              "      <td>False</td>\n",
              "      <td>False</td>\n",
              "      <td>False</td>\n",
              "      <td>False</td>\n",
              "      <td>False</td>\n",
              "      <td>False</td>\n",
              "      <td>False</td>\n",
              "      <td>False</td>\n",
              "    </tr>\n",
              "    <tr>\n",
              "      <th>3</th>\n",
              "      <td>False</td>\n",
              "      <td>False</td>\n",
              "      <td>False</td>\n",
              "      <td>False</td>\n",
              "      <td>False</td>\n",
              "      <td>False</td>\n",
              "      <td>False</td>\n",
              "      <td>False</td>\n",
              "      <td>False</td>\n",
              "      <td>False</td>\n",
              "      <td>False</td>\n",
              "    </tr>\n",
              "    <tr>\n",
              "      <th>4</th>\n",
              "      <td>False</td>\n",
              "      <td>False</td>\n",
              "      <td>False</td>\n",
              "      <td>False</td>\n",
              "      <td>False</td>\n",
              "      <td>False</td>\n",
              "      <td>False</td>\n",
              "      <td>False</td>\n",
              "      <td>False</td>\n",
              "      <td>False</td>\n",
              "      <td>False</td>\n",
              "    </tr>\n",
              "    <tr>\n",
              "      <th>5</th>\n",
              "      <td>False</td>\n",
              "      <td>False</td>\n",
              "      <td>False</td>\n",
              "      <td>False</td>\n",
              "      <td>False</td>\n",
              "      <td>False</td>\n",
              "      <td>False</td>\n",
              "      <td>False</td>\n",
              "      <td>False</td>\n",
              "      <td>False</td>\n",
              "      <td>False</td>\n",
              "    </tr>\n",
              "    <tr>\n",
              "      <th>...</th>\n",
              "      <td>...</td>\n",
              "      <td>...</td>\n",
              "      <td>...</td>\n",
              "      <td>...</td>\n",
              "      <td>...</td>\n",
              "      <td>...</td>\n",
              "      <td>...</td>\n",
              "      <td>...</td>\n",
              "      <td>...</td>\n",
              "      <td>...</td>\n",
              "      <td>...</td>\n",
              "    </tr>\n",
              "    <tr>\n",
              "      <th>996</th>\n",
              "      <td>False</td>\n",
              "      <td>False</td>\n",
              "      <td>False</td>\n",
              "      <td>False</td>\n",
              "      <td>False</td>\n",
              "      <td>False</td>\n",
              "      <td>False</td>\n",
              "      <td>False</td>\n",
              "      <td>False</td>\n",
              "      <td>True</td>\n",
              "      <td>False</td>\n",
              "    </tr>\n",
              "    <tr>\n",
              "      <th>997</th>\n",
              "      <td>False</td>\n",
              "      <td>False</td>\n",
              "      <td>False</td>\n",
              "      <td>False</td>\n",
              "      <td>False</td>\n",
              "      <td>False</td>\n",
              "      <td>False</td>\n",
              "      <td>False</td>\n",
              "      <td>False</td>\n",
              "      <td>False</td>\n",
              "      <td>False</td>\n",
              "    </tr>\n",
              "    <tr>\n",
              "      <th>998</th>\n",
              "      <td>False</td>\n",
              "      <td>False</td>\n",
              "      <td>False</td>\n",
              "      <td>False</td>\n",
              "      <td>False</td>\n",
              "      <td>False</td>\n",
              "      <td>False</td>\n",
              "      <td>False</td>\n",
              "      <td>False</td>\n",
              "      <td>False</td>\n",
              "      <td>False</td>\n",
              "    </tr>\n",
              "    <tr>\n",
              "      <th>999</th>\n",
              "      <td>False</td>\n",
              "      <td>False</td>\n",
              "      <td>False</td>\n",
              "      <td>False</td>\n",
              "      <td>False</td>\n",
              "      <td>False</td>\n",
              "      <td>False</td>\n",
              "      <td>False</td>\n",
              "      <td>False</td>\n",
              "      <td>True</td>\n",
              "      <td>False</td>\n",
              "    </tr>\n",
              "    <tr>\n",
              "      <th>1,000</th>\n",
              "      <td>False</td>\n",
              "      <td>False</td>\n",
              "      <td>False</td>\n",
              "      <td>False</td>\n",
              "      <td>False</td>\n",
              "      <td>False</td>\n",
              "      <td>False</td>\n",
              "      <td>False</td>\n",
              "      <td>False</td>\n",
              "      <td>True</td>\n",
              "      <td>False</td>\n",
              "    </tr>\n",
              "  </tbody>\n",
              "</table>\n",
              "<p>1000 rows × 11 columns</p>\n",
              "</div>"
            ],
            "text/plain": [
              "       Title   Year  Description  Director  Actor  IMDB Rating  Genre  \\\n",
              "Rank                                                                    \n",
              "1      False  False        False     False  False        False  False   \n",
              "2      False  False        False     False  False        False  False   \n",
              "3      False  False        False     False  False        False  False   \n",
              "4      False  False        False     False  False        False  False   \n",
              "5      False  False        False     False  False        False  False   \n",
              "...      ...    ...          ...       ...    ...          ...    ...   \n",
              "996    False  False        False     False  False        False  False   \n",
              "997    False  False        False     False  False        False  False   \n",
              "998    False  False        False     False  False        False  False   \n",
              "999    False  False        False     False  False        False  False   \n",
              "1,000  False  False        False     False  False        False  False   \n",
              "\n",
              "       Runtime  Metadata  Gross Earning   Vote  \n",
              "Rank                                            \n",
              "1        False     False          False  False  \n",
              "2        False     False          False  False  \n",
              "3        False     False          False  False  \n",
              "4        False     False          False  False  \n",
              "5        False     False          False  False  \n",
              "...        ...       ...            ...    ...  \n",
              "996      False     False           True  False  \n",
              "997      False     False          False  False  \n",
              "998      False     False          False  False  \n",
              "999      False     False           True  False  \n",
              "1,000    False     False           True  False  \n",
              "\n",
              "[1000 rows x 11 columns]"
            ]
          },
          "execution_count": 86,
          "metadata": {},
          "output_type": "execute_result"
        }
      ],
      "source": [
        "cleaned_data.isnull()"
      ]
    },
    {
      "cell_type": "code",
      "execution_count": null,
      "id": "7df3ffa6",
      "metadata": {
        "id": "7df3ffa6",
        "outputId": "8c75eddc-7d0b-41e2-a470-e4663dc3cad0"
      },
      "outputs": [
        {
          "data": {
            "text/plain": [
              "Index(['Metadata', 'Gross Earning'], dtype='object')"
            ]
          },
          "execution_count": 89,
          "metadata": {},
          "output_type": "execute_result"
        }
      ],
      "source": [
        "#cloumns with missing values\n",
        "df.columns[df.isnull().any(axis=0)]"
      ]
    },
    {
      "cell_type": "code",
      "execution_count": null,
      "id": "f6172d37",
      "metadata": {
        "scrolled": true,
        "id": "f6172d37",
        "outputId": "93bbfdaf-e197-4774-cd3a-22c469ba4bba"
      },
      "outputs": [
        {
          "data": {
            "text/plain": [
              "Title              0\n",
              "Year               0\n",
              "Description        0\n",
              "Director           0\n",
              "Actor              0\n",
              "IMDB Rating        0\n",
              "Genre              0\n",
              "Runtime            0\n",
              "Metadata         161\n",
              "Gross Earning    153\n",
              "Vote               0\n",
              "dtype: int64"
            ]
          },
          "execution_count": 87,
          "metadata": {},
          "output_type": "execute_result"
        }
      ],
      "source": [
        "cleaned_data.isnull().sum()"
      ]
    },
    {
      "cell_type": "markdown",
      "id": "c35be9bf",
      "metadata": {
        "id": "c35be9bf"
      },
      "source": [
        "There are 161 missing values in Metadata column and 153 missing values in Gross Earning column"
      ]
    },
    {
      "cell_type": "code",
      "execution_count": null,
      "id": "75adea66",
      "metadata": {
        "id": "75adea66",
        "outputId": "336d0fa4-d376-4bf1-d486-c44ed73c5fd6"
      },
      "outputs": [
        {
          "data": {
            "text/plain": [
              "(240, 11)"
            ]
          },
          "execution_count": 88,
          "metadata": {},
          "output_type": "execute_result"
        }
      ],
      "source": [
        "# number of rows with atleast one missing values\n",
        "null_rows = cleaned_data.isnull().any(axis=1)\n",
        "df[null_rows].shape"
      ]
    },
    {
      "cell_type": "code",
      "execution_count": null,
      "id": "9861e6a2",
      "metadata": {
        "id": "9861e6a2",
        "outputId": "2dbeb280-905f-415a-c91c-df1e5514c3b8"
      },
      "outputs": [
        {
          "data": {
            "text/plain": [
              "Title             0.0\n",
              "Year              0.0\n",
              "Description       0.0\n",
              "Director          0.0\n",
              "Actor             0.0\n",
              "IMDB Rating       0.0\n",
              "Genre             0.0\n",
              "Runtime           0.0\n",
              "Metadata         16.1\n",
              "Gross Earning    15.3\n",
              "Vote              0.0\n",
              "dtype: float64"
            ]
          },
          "execution_count": 91,
          "metadata": {},
          "output_type": "execute_result"
        }
      ],
      "source": [
        "#percentage of missing values by columns\n",
        "cleaned_data.isnull().sum()*100/len(cleaned_data)"
      ]
    },
    {
      "cell_type": "markdown",
      "id": "a409bb36",
      "metadata": {
        "id": "a409bb36"
      },
      "source": [
        "# Droping rows having missing values:"
      ]
    },
    {
      "cell_type": "code",
      "execution_count": null,
      "id": "ab6f5d7d",
      "metadata": {
        "id": "ab6f5d7d",
        "outputId": "d9c3c322-d1a2-4761-e601-c1a4963a6b1c"
      },
      "outputs": [
        {
          "data": {
            "text/html": [
              "<div>\n",
              "<style scoped>\n",
              "    .dataframe tbody tr th:only-of-type {\n",
              "        vertical-align: middle;\n",
              "    }\n",
              "\n",
              "    .dataframe tbody tr th {\n",
              "        vertical-align: top;\n",
              "    }\n",
              "\n",
              "    .dataframe thead th {\n",
              "        text-align: right;\n",
              "    }\n",
              "</style>\n",
              "<table border=\"1\" class=\"dataframe\">\n",
              "  <thead>\n",
              "    <tr style=\"text-align: right;\">\n",
              "      <th></th>\n",
              "      <th>Title</th>\n",
              "      <th>Year</th>\n",
              "      <th>Description</th>\n",
              "      <th>Director</th>\n",
              "      <th>Actor</th>\n",
              "      <th>IMDB Rating</th>\n",
              "      <th>Genre</th>\n",
              "      <th>Runtime</th>\n",
              "      <th>Metadata</th>\n",
              "      <th>Gross Earning</th>\n",
              "      <th>Vote</th>\n",
              "    </tr>\n",
              "    <tr>\n",
              "      <th>Rank</th>\n",
              "      <th></th>\n",
              "      <th></th>\n",
              "      <th></th>\n",
              "      <th></th>\n",
              "      <th></th>\n",
              "      <th></th>\n",
              "      <th></th>\n",
              "      <th></th>\n",
              "      <th></th>\n",
              "      <th></th>\n",
              "      <th></th>\n",
              "    </tr>\n",
              "  </thead>\n",
              "  <tbody>\n",
              "    <tr>\n",
              "      <th>1</th>\n",
              "      <td>The Shawshank Redemption</td>\n",
              "      <td>1994</td>\n",
              "      <td>Two imprisoned men bond over a number of years...</td>\n",
              "      <td>Frank Darabont</td>\n",
              "      <td>Frank Darabont,Tim Robbins,Morgan Freeman,Bob ...</td>\n",
              "      <td>9.3</td>\n",
              "      <td>Drama</td>\n",
              "      <td>142</td>\n",
              "      <td>81.0</td>\n",
              "      <td>28.34</td>\n",
              "      <td>2648769</td>\n",
              "    </tr>\n",
              "    <tr>\n",
              "      <th>2</th>\n",
              "      <td>The Godfather</td>\n",
              "      <td>1972</td>\n",
              "      <td>The aging patriarch of an organized crime dyna...</td>\n",
              "      <td>Francis Ford Coppola</td>\n",
              "      <td>Francis Ford Coppola,Marlon Brando,Al Pacino,J...</td>\n",
              "      <td>9.2</td>\n",
              "      <td>Crime, Drama</td>\n",
              "      <td>175</td>\n",
              "      <td>100.0</td>\n",
              "      <td>134.97</td>\n",
              "      <td>1836081</td>\n",
              "    </tr>\n",
              "    <tr>\n",
              "      <th>3</th>\n",
              "      <td>The Dark Knight</td>\n",
              "      <td>2008</td>\n",
              "      <td>When the menace known as the Joker wreaks havo...</td>\n",
              "      <td>Christopher Nolan</td>\n",
              "      <td>Christopher Nolan,Christian Bale,Heath Ledger,...</td>\n",
              "      <td>9.0</td>\n",
              "      <td>Action, Crime, Drama</td>\n",
              "      <td>152</td>\n",
              "      <td>84.0</td>\n",
              "      <td>534.86</td>\n",
              "      <td>2620732</td>\n",
              "    </tr>\n",
              "    <tr>\n",
              "      <th>4</th>\n",
              "      <td>The Lord of the Rings: The Return of the King</td>\n",
              "      <td>2003</td>\n",
              "      <td>Gandalf and Aragorn lead the World of Men agai...</td>\n",
              "      <td>Peter Jackson</td>\n",
              "      <td>Peter Jackson,Elijah Wood,Viggo Mortensen,Ian ...</td>\n",
              "      <td>9.0</td>\n",
              "      <td>Action, Adventure, Drama</td>\n",
              "      <td>201</td>\n",
              "      <td>94.0</td>\n",
              "      <td>377.85</td>\n",
              "      <td>1824571</td>\n",
              "    </tr>\n",
              "    <tr>\n",
              "      <th>5</th>\n",
              "      <td>Schindler's List</td>\n",
              "      <td>1993</td>\n",
              "      <td>In German-occupied Poland during World War II,...</td>\n",
              "      <td>Steven Spielberg</td>\n",
              "      <td>Steven Spielberg,Liam Neeson,Ralph Fiennes,Ben...</td>\n",
              "      <td>9.0</td>\n",
              "      <td>Biography, Drama, History</td>\n",
              "      <td>195</td>\n",
              "      <td>94.0</td>\n",
              "      <td>96.90</td>\n",
              "      <td>1342423</td>\n",
              "    </tr>\n",
              "    <tr>\n",
              "      <th>...</th>\n",
              "      <td>...</td>\n",
              "      <td>...</td>\n",
              "      <td>...</td>\n",
              "      <td>...</td>\n",
              "      <td>...</td>\n",
              "      <td>...</td>\n",
              "      <td>...</td>\n",
              "      <td>...</td>\n",
              "      <td>...</td>\n",
              "      <td>...</td>\n",
              "      <td>...</td>\n",
              "    </tr>\n",
              "    <tr>\n",
              "      <th>991</th>\n",
              "      <td>The Jungle Book</td>\n",
              "      <td>1967</td>\n",
              "      <td>Bagheera the Panther and Baloo the Bear have a...</td>\n",
              "      <td>Wolfgang Reitherman</td>\n",
              "      <td>Wolfgang Reitherman,Phil Harris,Sebastian Cabo...</td>\n",
              "      <td>7.6</td>\n",
              "      <td>Animation, Adventure, Comedy</td>\n",
              "      <td>78</td>\n",
              "      <td>65.0</td>\n",
              "      <td>141.84</td>\n",
              "      <td>182886</td>\n",
              "    </tr>\n",
              "    <tr>\n",
              "      <th>993</th>\n",
              "      <td>The Birds</td>\n",
              "      <td>1963</td>\n",
              "      <td>A wealthy San Francisco socialite pursues a po...</td>\n",
              "      <td>Alfred Hitchcock</td>\n",
              "      <td>Alfred Hitchcock,Rod Taylor,Tippi Hedren,Jessi...</td>\n",
              "      <td>7.6</td>\n",
              "      <td>Drama, Horror, Mystery</td>\n",
              "      <td>119</td>\n",
              "      <td>90.0</td>\n",
              "      <td>11.40</td>\n",
              "      <td>189075</td>\n",
              "    </tr>\n",
              "    <tr>\n",
              "      <th>994</th>\n",
              "      <td>Les yeux sans visage</td>\n",
              "      <td>1960</td>\n",
              "      <td>A surgeon causes an accident which leaves his ...</td>\n",
              "      <td>Georges Franju</td>\n",
              "      <td>Georges Franju,Pierre Brasseur,Alida Valli,Jul...</td>\n",
              "      <td>7.6</td>\n",
              "      <td>Drama, Horror</td>\n",
              "      <td>90</td>\n",
              "      <td>90.0</td>\n",
              "      <td>0.05</td>\n",
              "      <td>31852</td>\n",
              "    </tr>\n",
              "    <tr>\n",
              "      <th>997</th>\n",
              "      <td>From Here to Eternity</td>\n",
              "      <td>1953</td>\n",
              "      <td>At a U.S. Army base in 1941 Hawaii, a private ...</td>\n",
              "      <td>Fred Zinnemann</td>\n",
              "      <td>Fred Zinnemann,Burt Lancaster,Montgomery Clift...</td>\n",
              "      <td>7.6</td>\n",
              "      <td>Drama, Romance, War</td>\n",
              "      <td>118</td>\n",
              "      <td>85.0</td>\n",
              "      <td>30.50</td>\n",
              "      <td>47276</td>\n",
              "    </tr>\n",
              "    <tr>\n",
              "      <th>998</th>\n",
              "      <td>Snow White and the Seven Dwarfs</td>\n",
              "      <td>1937</td>\n",
              "      <td>Exiled into the dangerous forest by her wicked...</td>\n",
              "      <td>William Cottrell</td>\n",
              "      <td>William Cottrell,David Hand,Wilfred Jackson,La...</td>\n",
              "      <td>7.6</td>\n",
              "      <td>Animation, Adventure, Family</td>\n",
              "      <td>83</td>\n",
              "      <td>95.0</td>\n",
              "      <td>184.93</td>\n",
              "      <td>199317</td>\n",
              "    </tr>\n",
              "  </tbody>\n",
              "</table>\n",
              "<p>760 rows × 11 columns</p>\n",
              "</div>"
            ],
            "text/plain": [
              "                                              Title  Year  \\\n",
              "Rank                                                        \n",
              "1                          The Shawshank Redemption  1994   \n",
              "2                                     The Godfather  1972   \n",
              "3                                   The Dark Knight  2008   \n",
              "4     The Lord of the Rings: The Return of the King  2003   \n",
              "5                                  Schindler's List  1993   \n",
              "...                                             ...   ...   \n",
              "991                                 The Jungle Book  1967   \n",
              "993                                       The Birds  1963   \n",
              "994                            Les yeux sans visage  1960   \n",
              "997                           From Here to Eternity  1953   \n",
              "998                 Snow White and the Seven Dwarfs  1937   \n",
              "\n",
              "                                            Description              Director  \\\n",
              "Rank                                                                            \n",
              "1     Two imprisoned men bond over a number of years...        Frank Darabont   \n",
              "2     The aging patriarch of an organized crime dyna...  Francis Ford Coppola   \n",
              "3     When the menace known as the Joker wreaks havo...     Christopher Nolan   \n",
              "4     Gandalf and Aragorn lead the World of Men agai...         Peter Jackson   \n",
              "5     In German-occupied Poland during World War II,...      Steven Spielberg   \n",
              "...                                                 ...                   ...   \n",
              "991   Bagheera the Panther and Baloo the Bear have a...   Wolfgang Reitherman   \n",
              "993   A wealthy San Francisco socialite pursues a po...      Alfred Hitchcock   \n",
              "994   A surgeon causes an accident which leaves his ...        Georges Franju   \n",
              "997   At a U.S. Army base in 1941 Hawaii, a private ...        Fred Zinnemann   \n",
              "998   Exiled into the dangerous forest by her wicked...      William Cottrell   \n",
              "\n",
              "                                                  Actor  IMDB Rating  \\\n",
              "Rank                                                                   \n",
              "1     Frank Darabont,Tim Robbins,Morgan Freeman,Bob ...          9.3   \n",
              "2     Francis Ford Coppola,Marlon Brando,Al Pacino,J...          9.2   \n",
              "3     Christopher Nolan,Christian Bale,Heath Ledger,...          9.0   \n",
              "4     Peter Jackson,Elijah Wood,Viggo Mortensen,Ian ...          9.0   \n",
              "5     Steven Spielberg,Liam Neeson,Ralph Fiennes,Ben...          9.0   \n",
              "...                                                 ...          ...   \n",
              "991   Wolfgang Reitherman,Phil Harris,Sebastian Cabo...          7.6   \n",
              "993   Alfred Hitchcock,Rod Taylor,Tippi Hedren,Jessi...          7.6   \n",
              "994   Georges Franju,Pierre Brasseur,Alida Valli,Jul...          7.6   \n",
              "997   Fred Zinnemann,Burt Lancaster,Montgomery Clift...          7.6   \n",
              "998   William Cottrell,David Hand,Wilfred Jackson,La...          7.6   \n",
              "\n",
              "                                         Genre  Runtime  Metadata  \\\n",
              "Rank                                                                \n",
              "1                            Drama                  142      81.0   \n",
              "2                     Crime, Drama                  175     100.0   \n",
              "3             Action, Crime, Drama                  152      84.0   \n",
              "4         Action, Adventure, Drama                  201      94.0   \n",
              "5        Biography, Drama, History                  195      94.0   \n",
              "...                                        ...      ...       ...   \n",
              "991   Animation, Adventure, Comedy                   78      65.0   \n",
              "993         Drama, Horror, Mystery                  119      90.0   \n",
              "994                  Drama, Horror                   90      90.0   \n",
              "997            Drama, Romance, War                  118      85.0   \n",
              "998   Animation, Adventure, Family                   83      95.0   \n",
              "\n",
              "      Gross Earning     Vote  \n",
              "Rank                          \n",
              "1             28.34  2648769  \n",
              "2            134.97  1836081  \n",
              "3            534.86  2620732  \n",
              "4            377.85  1824571  \n",
              "5             96.90  1342423  \n",
              "...             ...      ...  \n",
              "991          141.84   182886  \n",
              "993           11.40   189075  \n",
              "994            0.05    31852  \n",
              "997           30.50    47276  \n",
              "998          184.93   199317  \n",
              "\n",
              "[760 rows x 11 columns]"
            ]
          },
          "execution_count": 95,
          "metadata": {},
          "output_type": "execute_result"
        }
      ],
      "source": [
        "cleaned_data.dropna(axis=0)"
      ]
    },
    {
      "cell_type": "markdown",
      "id": "b1c9d0c4",
      "metadata": {
        "id": "b1c9d0c4"
      },
      "source": [
        "# Describe the data:"
      ]
    },
    {
      "cell_type": "code",
      "execution_count": null,
      "id": "2ecef62f",
      "metadata": {
        "id": "2ecef62f",
        "outputId": "b89e4b45-be8c-4f6b-e074-c52b6cc93c17"
      },
      "outputs": [
        {
          "data": {
            "text/html": [
              "<div>\n",
              "<style scoped>\n",
              "    .dataframe tbody tr th:only-of-type {\n",
              "        vertical-align: middle;\n",
              "    }\n",
              "\n",
              "    .dataframe tbody tr th {\n",
              "        vertical-align: top;\n",
              "    }\n",
              "\n",
              "    .dataframe thead th {\n",
              "        text-align: right;\n",
              "    }\n",
              "</style>\n",
              "<table border=\"1\" class=\"dataframe\">\n",
              "  <thead>\n",
              "    <tr style=\"text-align: right;\">\n",
              "      <th></th>\n",
              "      <th>Year</th>\n",
              "      <th>IMDB Rating</th>\n",
              "      <th>Runtime</th>\n",
              "      <th>Metadata</th>\n",
              "      <th>Gross Earning</th>\n",
              "      <th>Vote</th>\n",
              "    </tr>\n",
              "  </thead>\n",
              "  <tbody>\n",
              "    <tr>\n",
              "      <th>count</th>\n",
              "      <td>1000.000000</td>\n",
              "      <td>1000.000000</td>\n",
              "      <td>1000.000000</td>\n",
              "      <td>839.000000</td>\n",
              "      <td>847.000000</td>\n",
              "      <td>1.000000e+03</td>\n",
              "    </tr>\n",
              "    <tr>\n",
              "      <th>mean</th>\n",
              "      <td>1991.305000</td>\n",
              "      <td>7.965200</td>\n",
              "      <td>123.828000</td>\n",
              "      <td>78.761621</td>\n",
              "      <td>73.097804</td>\n",
              "      <td>3.057101e+05</td>\n",
              "    </tr>\n",
              "    <tr>\n",
              "      <th>std</th>\n",
              "      <td>23.980722</td>\n",
              "      <td>0.277247</td>\n",
              "      <td>28.660004</td>\n",
              "      <td>12.014824</td>\n",
              "      <td>113.686385</td>\n",
              "      <td>3.677583e+05</td>\n",
              "    </tr>\n",
              "    <tr>\n",
              "      <th>min</th>\n",
              "      <td>1920.000000</td>\n",
              "      <td>7.600000</td>\n",
              "      <td>45.000000</td>\n",
              "      <td>28.000000</td>\n",
              "      <td>0.000000</td>\n",
              "      <td>2.550100e+04</td>\n",
              "    </tr>\n",
              "    <tr>\n",
              "      <th>25%</th>\n",
              "      <td>1975.000000</td>\n",
              "      <td>7.700000</td>\n",
              "      <td>103.000000</td>\n",
              "      <td>71.000000</td>\n",
              "      <td>3.425000</td>\n",
              "      <td>5.898625e+04</td>\n",
              "    </tr>\n",
              "    <tr>\n",
              "      <th>50%</th>\n",
              "      <td>1999.000000</td>\n",
              "      <td>7.900000</td>\n",
              "      <td>120.000000</td>\n",
              "      <td>80.000000</td>\n",
              "      <td>26.020000</td>\n",
              "      <td>1.526670e+05</td>\n",
              "    </tr>\n",
              "    <tr>\n",
              "      <th>75%</th>\n",
              "      <td>2010.000000</td>\n",
              "      <td>8.100000</td>\n",
              "      <td>138.000000</td>\n",
              "      <td>88.000000</td>\n",
              "      <td>99.240000</td>\n",
              "      <td>4.212710e+05</td>\n",
              "    </tr>\n",
              "    <tr>\n",
              "      <th>max</th>\n",
              "      <td>2022.000000</td>\n",
              "      <td>9.300000</td>\n",
              "      <td>321.000000</td>\n",
              "      <td>100.000000</td>\n",
              "      <td>936.660000</td>\n",
              "      <td>2.648769e+06</td>\n",
              "    </tr>\n",
              "  </tbody>\n",
              "</table>\n",
              "</div>"
            ],
            "text/plain": [
              "              Year  IMDB Rating      Runtime    Metadata  Gross Earning  \\\n",
              "count  1000.000000  1000.000000  1000.000000  839.000000     847.000000   \n",
              "mean   1991.305000     7.965200   123.828000   78.761621      73.097804   \n",
              "std      23.980722     0.277247    28.660004   12.014824     113.686385   \n",
              "min    1920.000000     7.600000    45.000000   28.000000       0.000000   \n",
              "25%    1975.000000     7.700000   103.000000   71.000000       3.425000   \n",
              "50%    1999.000000     7.900000   120.000000   80.000000      26.020000   \n",
              "75%    2010.000000     8.100000   138.000000   88.000000      99.240000   \n",
              "max    2022.000000     9.300000   321.000000  100.000000     936.660000   \n",
              "\n",
              "               Vote  \n",
              "count  1.000000e+03  \n",
              "mean   3.057101e+05  \n",
              "std    3.677583e+05  \n",
              "min    2.550100e+04  \n",
              "25%    5.898625e+04  \n",
              "50%    1.526670e+05  \n",
              "75%    4.212710e+05  \n",
              "max    2.648769e+06  "
            ]
          },
          "execution_count": 96,
          "metadata": {},
          "output_type": "execute_result"
        }
      ],
      "source": [
        "cleaned_data.describe()"
      ]
    },
    {
      "cell_type": "code",
      "execution_count": null,
      "id": "5a4c14a2",
      "metadata": {
        "id": "5a4c14a2",
        "outputId": "aabddd3e-c89e-4bff-8061-c032ad3b58d5"
      },
      "outputs": [
        {
          "data": {
            "text/plain": [
              "count                  1000\n",
              "unique                  198\n",
              "top       Drama            \n",
              "freq                     86\n",
              "Name: Genre, dtype: object"
            ]
          },
          "execution_count": 98,
          "metadata": {},
          "output_type": "execute_result"
        }
      ],
      "source": [
        "cleaned_data['Genre'].describe()"
      ]
    },
    {
      "cell_type": "markdown",
      "id": "d17d95f4",
      "metadata": {
        "id": "d17d95f4"
      },
      "source": [
        "Clearly there are 198 unique values in Genre where top one is Drama having frequency of 86."
      ]
    },
    {
      "cell_type": "code",
      "execution_count": null,
      "id": "92950df2",
      "metadata": {
        "id": "92950df2",
        "outputId": "fea9ff12-8cc4-4bd2-f7b9-b3d7b9f25fe5"
      },
      "outputs": [
        {
          "data": {
            "text/plain": [
              "Drama                                 86\n",
              "Drama, Romance                        35\n",
              "Comedy, Drama                         34\n",
              "Comedy, Drama, Romance                33\n",
              "Action, Crime, Drama                  31\n",
              "Name: Genre, dtype: int64"
            ]
          },
          "execution_count": 100,
          "metadata": {},
          "output_type": "execute_result"
        }
      ],
      "source": [
        "cleaned_data['Genre'].value_counts().head()"
      ]
    },
    {
      "cell_type": "code",
      "execution_count": null,
      "id": "4ae416c4",
      "metadata": {
        "id": "4ae416c4",
        "outputId": "85001da3-257a-45f4-f857-fcde8434e01f"
      },
      "outputs": [
        {
          "data": {
            "text/plain": [
              "count                 1000\n",
              "unique                 553\n",
              "top       Alfred Hitchcock\n",
              "freq                    13\n",
              "Name: Director, dtype: object"
            ]
          },
          "execution_count": 101,
          "metadata": {},
          "output_type": "execute_result"
        }
      ],
      "source": [
        "cleaned_data['Director'].describe()"
      ]
    },
    {
      "cell_type": "markdown",
      "id": "b5099368",
      "metadata": {
        "id": "b5099368"
      },
      "source": [
        "This tells us that there are total 553 unique directors in this dataset. Alfred Hitchcock directed total of 13 movies which is highest among 553 directors."
      ]
    },
    {
      "cell_type": "markdown",
      "id": "372ea572",
      "metadata": {
        "id": "372ea572"
      },
      "source": [
        "# Questions :"
      ]
    },
    {
      "cell_type": "markdown",
      "id": "4b5005d6",
      "metadata": {
        "id": "4b5005d6"
      },
      "source": [
        "# Which movies has runtime >=180 minutes?"
      ]
    },
    {
      "cell_type": "code",
      "execution_count": null,
      "id": "e26000f4",
      "metadata": {
        "id": "e26000f4",
        "outputId": "135e0187-8170-436b-ba5f-9c823715b5e3"
      },
      "outputs": [
        {
          "data": {
            "text/plain": [
              "Rank\n",
              "4      The Lord of the Rings: The Return of the King\n",
              "5                                   Schindler's List\n",
              "6                              The Godfather Part II\n",
              "26                                    The Green Mile\n",
              "33                              Shichinin no samurai\n",
              "67                                 Avengers: Endgame\n",
              "118                      Once Upon a Time in America\n",
              "125                               Lawrence of Arabia\n",
              "148                               Bhaag Milkha Bhaag\n",
              "150                               Gangs of Wasseypur\n",
              "159                          The Wolf of Wall Street\n",
              "166                           Swades: We, the People\n",
              "205                               Gone with the Wind\n",
              "225                                       Kis Uykusu\n",
              "260                                   Dil Chahta Hai\n",
              "267                Lagaan: Once Upon a Time in India\n",
              "291                                           Gandhi\n",
              "292                              Fanny och Alexander\n",
              "296                                  The Deer Hunter\n",
              "300                                           Sholay\n",
              "302                                     Barry Lyndon\n",
              "308                                    Andrei Rublev\n",
              "315                                          Ben-Hur\n",
              "339                           RRR (Rise Roar Revolt)\n",
              "362                     Zack Snyder's Justice League\n",
              "394                                         Magnolia\n",
              "404                      Dilwale Dulhania Le Jayenge\n",
              "409                                              JFK\n",
              "411                               Dances with Wolves\n",
              "433                              Fiddler on the Roof\n",
              "440                                    Il gattopardo\n",
              "475                     M.S. Dhoni: The Untold Story\n",
              "514                                    Kal Ho Naa Ho\n",
              "530                                          Titanic\n",
              "540                                   Bound by Honor\n",
              "551                                        Kagemusha\n",
              "564                                   Doctor Zhivago\n",
              "569                                        Spartacus\n",
              "573                             The Ten Commandments\n",
              "632                                     The Irishman\n",
              "659                                       Veer-Zaara\n",
              "681                                           Hamlet\n",
              "705                                  The Right Stuff\n",
              "766                                   La vie d'Adèle\n",
              "852                                       Short Cuts\n",
              "856                                        Malcolm X\n",
              "Name: Title, dtype: object"
            ]
          },
          "execution_count": 104,
          "metadata": {},
          "output_type": "execute_result"
        }
      ],
      "source": [
        "cleaned_data[cleaned_data['Runtime']>=180]['Title']"
      ]
    },
    {
      "cell_type": "code",
      "execution_count": null,
      "id": "e99602f7",
      "metadata": {
        "id": "e99602f7",
        "outputId": "1a64d01a-b2bd-4c14-e4fc-2272c712efc8"
      },
      "outputs": [
        {
          "data": {
            "text/plain": [
              "46"
            ]
          },
          "execution_count": 106,
          "metadata": {},
          "output_type": "execute_result"
        }
      ],
      "source": [
        "len(cleaned_data[cleaned_data['Runtime']>=180])"
      ]
    },
    {
      "cell_type": "markdown",
      "id": "9d2f06f7",
      "metadata": {
        "id": "9d2f06f7"
      },
      "source": [
        "There are 46 movies with runtime greater than 180 minutes "
      ]
    },
    {
      "cell_type": "markdown",
      "id": "56e923e7",
      "metadata": {
        "id": "56e923e7"
      },
      "source": [
        "# Which year has highest average voting?"
      ]
    },
    {
      "cell_type": "code",
      "execution_count": null,
      "id": "b72bb4f7",
      "metadata": {
        "id": "b72bb4f7",
        "outputId": "ba8a0771-f177-4a4f-beb8-d707762f8ea8"
      },
      "outputs": [
        {
          "data": {
            "text/plain": [
              "Year\n",
              "1994    746697.615385\n",
              "1977    606662.666667\n",
              "1999    589147.647059\n",
              "2008    525139.950000\n",
              "2010    517540.809524\n",
              "            ...      \n",
              "1935     46255.333333\n",
              "1928     44400.500000\n",
              "1947     42682.000000\n",
              "1932     37425.000000\n",
              "1945     32668.250000\n",
              "Name: Vote, Length: 101, dtype: float64"
            ]
          },
          "execution_count": 170,
          "metadata": {},
          "output_type": "execute_result"
        }
      ],
      "source": [
        "cleaned_data.groupby('Year')['Vote'].mean().sort_values(ascending =False)\n"
      ]
    },
    {
      "cell_type": "markdown",
      "id": "125fb944",
      "metadata": {
        "id": "125fb944"
      },
      "source": [
        "In the year 1994 there was highest average voting."
      ]
    },
    {
      "cell_type": "code",
      "execution_count": null,
      "id": "c532d5e7",
      "metadata": {
        "id": "c532d5e7",
        "outputId": "9ec21af0-3e59-43aa-9e8c-f6945cff6fd5"
      },
      "outputs": [
        {
          "data": {
            "image/png": "[encoded data removed]",
            "text/plain": [
              "<Figure size 640x480 with 1 Axes>"
            ]
          },
          "metadata": {},
          "output_type": "display_data"
        }
      ],
      "source": [
        "x=cleaned_data.groupby('Year')['Vote'].mean()\n",
        "plt.plot(x);"
      ]
    },
    {
      "cell_type": "markdown",
      "id": "45e6622b",
      "metadata": {
        "id": "45e6622b"
      },
      "source": [
        "# Visualizing Votes of last 10 years"
      ]
    },
    {
      "cell_type": "code",
      "execution_count": null,
      "id": "85d9388d",
      "metadata": {
        "id": "85d9388d"
      },
      "outputs": [],
      "source": [
        "x=cleaned_data[((cleaned_data['Year'] >= 2012) & (cleaned_data['Year'] <= 2022))]"
      ]
    },
    {
      "cell_type": "code",
      "execution_count": null,
      "id": "054e4561",
      "metadata": {
        "id": "054e4561",
        "outputId": "8a63d124-7240-4914-f4f0-72c4024edcb3"
      },
      "outputs": [
        {
          "data": {
            "text/plain": [
              "Text(0.5, 1.0, 'Votes by Year')"
            ]
          },
          "execution_count": 190,
          "metadata": {},
          "output_type": "execute_result"
        },
        {
          "data": {
            "image/png": "[encoded data removed]",
            "text/plain": [
              "<Figure size 640x480 with 1 Axes>"
            ]
          },
          "metadata": {},
          "output_type": "display_data"
        }
      ],
      "source": [
        "sns.barplot(x='Year',y='Vote',data =x)\n",
        "plt.title(\"Votes by Year\")"
      ]
    },
    {
      "cell_type": "markdown",
      "id": "a0b2de06",
      "metadata": {
        "id": "a0b2de06"
      },
      "source": [
        "# Does Average rating follows trend across the years?"
      ]
    },
    {
      "cell_type": "code",
      "execution_count": null,
      "id": "f50dd38b",
      "metadata": {
        "id": "f50dd38b",
        "outputId": "9fe803c9-d551-4e42-fb9c-91a7251c8ae6"
      },
      "outputs": [
        {
          "data": {
            "image/png": "[encoded data removed]",
            "text/plain": [
              "<Figure size 640x480 with 1 Axes>"
            ]
          },
          "metadata": {},
          "output_type": "display_data"
        }
      ],
      "source": [
        "x=cleaned_data.groupby('Year')['IMDB Rating'].mean().reset_index()\n",
        "x\n",
        "plt.scatter(x['Year'],x['IMDB Rating']);"
      ]
    },
    {
      "cell_type": "markdown",
      "id": "d144778a",
      "metadata": {
        "id": "d144778a"
      },
      "source": [
        "From 1920 to 2020 the average rating has fallen. Thus the users do not seems to be satisfied with the movies  now a days."
      ]
    },
    {
      "cell_type": "markdown",
      "id": "587029c0",
      "metadata": {
        "id": "587029c0"
      },
      "source": [
        "# Which Year has highest average Revenue?"
      ]
    },
    {
      "cell_type": "code",
      "execution_count": null,
      "id": "a91b8e0e",
      "metadata": {
        "id": "a91b8e0e",
        "outputId": "73bd98a8-0174-4580-b91e-c35a8c48414a"
      },
      "outputs": [
        {
          "data": {
            "text/plain": [
              "Year\n",
              "2021    381.360000\n",
              "2018    175.729333\n",
              "1977    164.676667\n",
              "1953    142.833333\n",
              "2022    141.500000\n",
              "           ...    \n",
              "1931      0.025000\n",
              "1928      0.020000\n",
              "1920           NaN\n",
              "1922           NaN\n",
              "1943           NaN\n",
              "Name: Gross Earning, Length: 101, dtype: float64"
            ]
          },
          "execution_count": 191,
          "metadata": {},
          "output_type": "execute_result"
        }
      ],
      "source": [
        "cleaned_data.groupby('Year')['Gross Earning'].mean().sort_values(ascending =False)"
      ]
    },
    {
      "cell_type": "markdown",
      "id": "9dd35aac",
      "metadata": {
        "id": "9dd35aac"
      },
      "source": [
        "So the highset revenue was in the year 2021"
      ]
    },
    {
      "cell_type": "markdown",
      "id": "adabc147",
      "metadata": {
        "id": "adabc147"
      },
      "source": [
        "# Visualizing Average Revenue for last 10 years"
      ]
    },
    {
      "cell_type": "code",
      "execution_count": null,
      "id": "0a040506",
      "metadata": {
        "id": "0a040506",
        "outputId": "bcc6a404-6216-4482-928b-b2cf0dd9d171"
      },
      "outputs": [
        {
          "name": "stderr",
          "output_type": "stream",
          "text": [
            "C:\\Users\\gorav sen\\Python\\lib\\site-packages\\seaborn\\algorithms.py:98: RuntimeWarning: Mean of empty slice\n",
            "  boot_dist.append(f(*sample, **func_kwargs))\n",
            "C:\\Users\\gorav sen\\Python\\lib\\site-packages\\seaborn\\algorithms.py:98: RuntimeWarning: Mean of empty slice\n",
            "  boot_dist.append(f(*sample, **func_kwargs))\n",
            "C:\\Users\\gorav sen\\Python\\lib\\site-packages\\seaborn\\algorithms.py:98: RuntimeWarning: Mean of empty slice\n",
            "  boot_dist.append(f(*sample, **func_kwargs))\n"
          ]
        },
        {
          "data": {
            "image/png": "[encoded data removed]",
            "text/plain": [
              "<Figure size 640x480 with 1 Axes>"
            ]
          },
          "metadata": {},
          "output_type": "display_data"
        }
      ],
      "source": [
        "x=cleaned_data[((cleaned_data['Year'] >= 2012) & (cleaned_data['Year'] <= 2022))]\n",
        "sns.barplot(x='Year',y='Gross Earning',data =x)\n",
        "plt.title(\"Revenue by Year\")"
      ]
    },
    {
      "cell_type": "markdown",
      "id": "8d7e50c5",
      "metadata": {
        "id": "8d7e50c5"
      },
      "source": [
        "# Which movie has the highest Revenue?"
      ]
    },
    {
      "cell_type": "code",
      "execution_count": null,
      "id": "e133b477",
      "metadata": {
        "id": "e133b477",
        "outputId": "f20414a2-4706-451e-d3ce-c8e4e0785b3d"
      },
      "outputs": [
        {
          "name": "stdout",
          "output_type": "stream",
          "text": [
            "Rank\n",
            "616    Star Wars: Episode VII - The Force Awakens\n",
            "Name: Title, dtype: object\n"
          ]
        }
      ],
      "source": [
        "title=cleaned_data[cleaned_data[\"Gross Earning\"]==cleaned_data[\"Gross Earning\"].max()]['Title']\n",
        "print(title)"
      ]
    },
    {
      "cell_type": "markdown",
      "id": "0af27703",
      "metadata": {
        "id": "0af27703"
      },
      "source": [
        "# What is the average rating for each director?"
      ]
    },
    {
      "cell_type": "code",
      "execution_count": null,
      "id": "219ba8af",
      "metadata": {
        "id": "219ba8af",
        "outputId": "fcddb0f6-636c-49d2-910e-b35a3fc0989b"
      },
      "outputs": [
        {
          "data": {
            "text/html": [
              "<div>\n",
              "<style scoped>\n",
              "    .dataframe tbody tr th:only-of-type {\n",
              "        vertical-align: middle;\n",
              "    }\n",
              "\n",
              "    .dataframe tbody tr th {\n",
              "        vertical-align: top;\n",
              "    }\n",
              "\n",
              "    .dataframe thead th {\n",
              "        text-align: right;\n",
              "    }\n",
              "</style>\n",
              "<table border=\"1\" class=\"dataframe\">\n",
              "  <thead>\n",
              "    <tr style=\"text-align: right;\">\n",
              "      <th></th>\n",
              "      <th>Director</th>\n",
              "      <th>IMDB Rating</th>\n",
              "    </tr>\n",
              "  </thead>\n",
              "  <tbody>\n",
              "    <tr>\n",
              "      <th>139</th>\n",
              "      <td>Frank Darabont</td>\n",
              "      <td>8.95</td>\n",
              "    </tr>\n",
              "    <tr>\n",
              "      <th>480</th>\n",
              "      <td>T.J. Gnanavel</td>\n",
              "      <td>8.90</td>\n",
              "    </tr>\n",
              "    <tr>\n",
              "      <th>301</th>\n",
              "      <td>Madhavan</td>\n",
              "      <td>8.90</td>\n",
              "    </tr>\n",
              "    <tr>\n",
              "      <th>189</th>\n",
              "      <td>Irvin Kershner</td>\n",
              "      <td>8.70</td>\n",
              "    </tr>\n",
              "    <tr>\n",
              "      <th>284</th>\n",
              "      <td>Lana Wachowski</td>\n",
              "      <td>8.70</td>\n",
              "    </tr>\n",
              "    <tr>\n",
              "      <th>...</th>\n",
              "      <td>...</td>\n",
              "      <td>...</td>\n",
              "    </tr>\n",
              "    <tr>\n",
              "      <th>104</th>\n",
              "      <td>David Mackenzie</td>\n",
              "      <td>7.60</td>\n",
              "    </tr>\n",
              "    <tr>\n",
              "      <th>256</th>\n",
              "      <td>Jonathan Lynn</td>\n",
              "      <td>7.60</td>\n",
              "    </tr>\n",
              "    <tr>\n",
              "      <th>255</th>\n",
              "      <td>Jonathan Levine</td>\n",
              "      <td>7.60</td>\n",
              "    </tr>\n",
              "    <tr>\n",
              "      <th>108</th>\n",
              "      <td>David Zucker</td>\n",
              "      <td>7.60</td>\n",
              "    </tr>\n",
              "    <tr>\n",
              "      <th>92</th>\n",
              "      <td>Daniel Monzón</td>\n",
              "      <td>7.60</td>\n",
              "    </tr>\n",
              "  </tbody>\n",
              "</table>\n",
              "<p>553 rows × 2 columns</p>\n",
              "</div>"
            ],
            "text/plain": [
              "            Director  IMDB Rating\n",
              "139   Frank Darabont         8.95\n",
              "480    T.J. Gnanavel         8.90\n",
              "301         Madhavan         8.90\n",
              "189   Irvin Kershner         8.70\n",
              "284   Lana Wachowski         8.70\n",
              "..               ...          ...\n",
              "104  David Mackenzie         7.60\n",
              "256    Jonathan Lynn         7.60\n",
              "255  Jonathan Levine         7.60\n",
              "108     David Zucker         7.60\n",
              "92     Daniel Monzón         7.60\n",
              "\n",
              "[553 rows x 2 columns]"
            ]
          },
          "execution_count": 207,
          "metadata": {},
          "output_type": "execute_result"
        }
      ],
      "source": [
        "directors=cleaned_data.groupby(\"Director\")[\"IMDB Rating\"].mean().reset_index()\n",
        "directors.sort_values(\"IMDB Rating\", ascending=False)"
      ]
    },
    {
      "cell_type": "markdown",
      "id": "549ec76d",
      "metadata": {
        "id": "549ec76d"
      },
      "source": [
        "# what are the top 10 highest runtime movies?"
      ]
    },
    {
      "cell_type": "code",
      "execution_count": null,
      "id": "c14ce458",
      "metadata": {
        "id": "c14ce458",
        "outputId": "9e19b2fa-4a87-4541-c86e-e43e92cfee40"
      },
      "outputs": [
        {
          "data": {
            "text/html": [
              "<div>\n",
              "<style scoped>\n",
              "    .dataframe tbody tr th:only-of-type {\n",
              "        vertical-align: middle;\n",
              "    }\n",
              "\n",
              "    .dataframe tbody tr th {\n",
              "        vertical-align: top;\n",
              "    }\n",
              "\n",
              "    .dataframe thead th {\n",
              "        text-align: right;\n",
              "    }\n",
              "</style>\n",
              "<table border=\"1\" class=\"dataframe\">\n",
              "  <thead>\n",
              "    <tr style=\"text-align: right;\">\n",
              "      <th></th>\n",
              "      <th>Runtime</th>\n",
              "    </tr>\n",
              "    <tr>\n",
              "      <th>Title</th>\n",
              "      <th></th>\n",
              "    </tr>\n",
              "  </thead>\n",
              "  <tbody>\n",
              "    <tr>\n",
              "      <th>Gangs of Wasseypur</th>\n",
              "      <td>321</td>\n",
              "    </tr>\n",
              "    <tr>\n",
              "      <th>Zack Snyder's Justice League</th>\n",
              "      <td>242</td>\n",
              "    </tr>\n",
              "    <tr>\n",
              "      <th>Hamlet</th>\n",
              "      <td>242</td>\n",
              "    </tr>\n",
              "    <tr>\n",
              "      <th>Gone with the Wind</th>\n",
              "      <td>238</td>\n",
              "    </tr>\n",
              "    <tr>\n",
              "      <th>Once Upon a Time in America</th>\n",
              "      <td>229</td>\n",
              "    </tr>\n",
              "    <tr>\n",
              "      <th>Lagaan: Once Upon a Time in India</th>\n",
              "      <td>224</td>\n",
              "    </tr>\n",
              "    <tr>\n",
              "      <th>The Ten Commandments</th>\n",
              "      <td>220</td>\n",
              "    </tr>\n",
              "    <tr>\n",
              "      <th>Lawrence of Arabia</th>\n",
              "      <td>218</td>\n",
              "    </tr>\n",
              "    <tr>\n",
              "      <th>Ben-Hur</th>\n",
              "      <td>212</td>\n",
              "    </tr>\n",
              "    <tr>\n",
              "      <th>Swades: We, the People</th>\n",
              "      <td>210</td>\n",
              "    </tr>\n",
              "  </tbody>\n",
              "</table>\n",
              "</div>"
            ],
            "text/plain": [
              "                                   Runtime\n",
              "Title                                     \n",
              "Gangs of Wasseypur                     321\n",
              "Zack Snyder's Justice League           242\n",
              "Hamlet                                 242\n",
              "Gone with the Wind                     238\n",
              "Once Upon a Time in America            229\n",
              "Lagaan: Once Upon a Time in India      224\n",
              "The Ten Commandments                   220\n",
              "Lawrence of Arabia                     218\n",
              "Ben-Hur                                212\n",
              "Swades: We, the People                 210"
            ]
          },
          "execution_count": 255,
          "metadata": {},
          "output_type": "execute_result"
        }
      ],
      "source": [
        "top_10_runtime=cleaned_data.nlargest(10,'Runtime')[['Title','Runtime']].set_index('Title')\n",
        "top_10_runtime"
      ]
    },
    {
      "cell_type": "code",
      "execution_count": null,
      "id": "4dc074b4",
      "metadata": {
        "id": "4dc074b4",
        "outputId": "826e9a36-d288-4b04-e3b7-e02d292bec27"
      },
      "outputs": [
        {
          "data": {
            "image/png": "[encoded data removed]",
            "text/plain": [
              "<Figure size 1000x600 with 1 Axes>"
            ]
          },
          "metadata": {},
          "output_type": "display_data"
        }
      ],
      "source": [
        "f, ax = plt.subplots(figsize=(10, 6))\n",
        "sns.barplot(x='Runtime',y=top_10_runtime.index,data=top_10_runtime,ax=ax);"
      ]
    },
    {
      "cell_type": "markdown",
      "id": "070d4dee",
      "metadata": {
        "id": "070d4dee"
      },
      "source": [
        "# Display number of movies per years"
      ]
    },
    {
      "cell_type": "code",
      "execution_count": null,
      "id": "aa1be472",
      "metadata": {
        "id": "aa1be472",
        "outputId": "ea603f34-2cec-4ebd-d36e-3dce8d71b709"
      },
      "outputs": [
        {
          "data": {
            "text/plain": [
              "2014    32\n",
              "2004    31\n",
              "2016    29\n",
              "2013    27\n",
              "2001    26\n",
              "        ..\n",
              "1936     1\n",
              "1921     1\n",
              "1922     1\n",
              "1943     1\n",
              "1924     1\n",
              "Name: Year, Length: 101, dtype: int64"
            ]
          },
          "execution_count": 215,
          "metadata": {},
          "output_type": "execute_result"
        }
      ],
      "source": [
        "cleaned_data['Year'].value_counts()"
      ]
    },
    {
      "cell_type": "code",
      "execution_count": null,
      "id": "2898c780",
      "metadata": {
        "id": "2898c780",
        "outputId": "affd2dde-cdc9-40eb-ec50-3c73fa8a2cc9"
      },
      "outputs": [
        {
          "data": {
            "image/png": "[encoded data removed]",
            "text/plain": [
              "<Figure size 1370x1127 with 1 Axes>"
            ]
          },
          "metadata": {},
          "output_type": "display_data"
        }
      ],
      "source": [
        "\n",
        "plot=sns.countplot(x='Year',data=cleaned_data);\n",
        "list =cleaned_data['Year'].unique()\n",
        "plot.set_xticklabels(labels=list, rotation=90);\n",
        "plt.title(\"Movies per year\");"
      ]
    },
    {
      "cell_type": "markdown",
      "id": "bd2f7aad",
      "metadata": {
        "id": "bd2f7aad"
      },
      "source": [
        "# What are the top ten highest rated movie ?"
      ]
    },
    {
      "cell_type": "code",
      "execution_count": null,
      "id": "bea6456e",
      "metadata": {
        "id": "bea6456e",
        "outputId": "d9f80e7c-ed61-461b-f741-fa04f7a02303"
      },
      "outputs": [
        {
          "data": {
            "text/html": [
              "<div>\n",
              "<style scoped>\n",
              "    .dataframe tbody tr th:only-of-type {\n",
              "        vertical-align: middle;\n",
              "    }\n",
              "\n",
              "    .dataframe tbody tr th {\n",
              "        vertical-align: top;\n",
              "    }\n",
              "\n",
              "    .dataframe thead th {\n",
              "        text-align: right;\n",
              "    }\n",
              "</style>\n",
              "<table border=\"1\" class=\"dataframe\">\n",
              "  <thead>\n",
              "    <tr style=\"text-align: right;\">\n",
              "      <th></th>\n",
              "      <th>IMDB Rating</th>\n",
              "      <th>Director</th>\n",
              "    </tr>\n",
              "    <tr>\n",
              "      <th>Title</th>\n",
              "      <th></th>\n",
              "      <th></th>\n",
              "    </tr>\n",
              "  </thead>\n",
              "  <tbody>\n",
              "    <tr>\n",
              "      <th>The Shawshank Redemption</th>\n",
              "      <td>9.3</td>\n",
              "      <td>Frank Darabont</td>\n",
              "    </tr>\n",
              "    <tr>\n",
              "      <th>The Godfather</th>\n",
              "      <td>9.2</td>\n",
              "      <td>Francis Ford Coppola</td>\n",
              "    </tr>\n",
              "    <tr>\n",
              "      <th>The Dark Knight</th>\n",
              "      <td>9.0</td>\n",
              "      <td>Christopher Nolan</td>\n",
              "    </tr>\n",
              "    <tr>\n",
              "      <th>The Lord of the Rings: The Return of the King</th>\n",
              "      <td>9.0</td>\n",
              "      <td>Peter Jackson</td>\n",
              "    </tr>\n",
              "    <tr>\n",
              "      <th>Schindler's List</th>\n",
              "      <td>9.0</td>\n",
              "      <td>Steven Spielberg</td>\n",
              "    </tr>\n",
              "    <tr>\n",
              "      <th>The Godfather Part II</th>\n",
              "      <td>9.0</td>\n",
              "      <td>Francis Ford Coppola</td>\n",
              "    </tr>\n",
              "    <tr>\n",
              "      <th>12 Angry Men</th>\n",
              "      <td>9.0</td>\n",
              "      <td>Sidney Lumet</td>\n",
              "    </tr>\n",
              "    <tr>\n",
              "      <th>Rocketry: The Nambi Effect</th>\n",
              "      <td>8.9</td>\n",
              "      <td>Madhavan</td>\n",
              "    </tr>\n",
              "    <tr>\n",
              "      <th>Jai Bhim</th>\n",
              "      <td>8.9</td>\n",
              "      <td>T.J. Gnanavel</td>\n",
              "    </tr>\n",
              "    <tr>\n",
              "      <th>Pulp Fiction</th>\n",
              "      <td>8.9</td>\n",
              "      <td>Quentin Tarantino</td>\n",
              "    </tr>\n",
              "  </tbody>\n",
              "</table>\n",
              "</div>"
            ],
            "text/plain": [
              "                                               IMDB Rating  \\\n",
              "Title                                                        \n",
              "The Shawshank Redemption                               9.3   \n",
              "The Godfather                                          9.2   \n",
              "The Dark Knight                                        9.0   \n",
              "The Lord of the Rings: The Return of the King          9.0   \n",
              "Schindler's List                                       9.0   \n",
              "The Godfather Part II                                  9.0   \n",
              "12 Angry Men                                           9.0   \n",
              "Rocketry: The Nambi Effect                             8.9   \n",
              "Jai Bhim                                               8.9   \n",
              "Pulp Fiction                                           8.9   \n",
              "\n",
              "                                                           Director  \n",
              "Title                                                                \n",
              "The Shawshank Redemption                             Frank Darabont  \n",
              "The Godfather                                  Francis Ford Coppola  \n",
              "The Dark Knight                                   Christopher Nolan  \n",
              "The Lord of the Rings: The Return of the King         Peter Jackson  \n",
              "Schindler's List                                   Steven Spielberg  \n",
              "The Godfather Part II                          Francis Ford Coppola  \n",
              "12 Angry Men                                           Sidney Lumet  \n",
              "Rocketry: The Nambi Effect                                 Madhavan  \n",
              "Jai Bhim                                              T.J. Gnanavel  \n",
              "Pulp Fiction                                      Quentin Tarantino  "
            ]
          },
          "execution_count": 253,
          "metadata": {},
          "output_type": "execute_result"
        }
      ],
      "source": [
        "top_10_rating=cleaned_data.nlargest(10,'IMDB Rating')[['Title','IMDB Rating','Director']].set_index('Title')\n",
        "top_10_rating"
      ]
    },
    {
      "cell_type": "code",
      "execution_count": null,
      "id": "906c02ce",
      "metadata": {
        "id": "906c02ce",
        "outputId": "99bfb211-5c4c-4b5b-b7c0-3f1d0c388e84"
      },
      "outputs": [
        {
          "data": {
            "text/plain": [
              "<matplotlib.legend.Legend at 0x2a14975c040>"
            ]
          },
          "execution_count": 307,
          "metadata": {},
          "output_type": "execute_result"
        },
        {
          "data": {
            "image/png": "[encoded data removed]",
            "text/plain": [
              "<Figure size 1000x600 with 1 Axes>"
            ]
          },
          "metadata": {},
          "output_type": "display_data"
        }
      ],
      "source": [
        "f, ax = plt.subplots(figsize=(10, 6))\n",
        "sns.barplot(x='IMDB Rating',y=top_10_rating.index,data=top_10_rating,hue='Director',dodge=False,ax=ax);\n",
        "plt.legend(bbox_to_anchor=(1.05,1),loc=2)"
      ]
    },
    {
      "cell_type": "markdown",
      "id": "09dfdbeb",
      "metadata": {
        "id": "09dfdbeb"
      },
      "source": [
        "# Hypothesis"
      ]
    },
    {
      "cell_type": "markdown",
      "id": "220ab508",
      "metadata": {
        "id": "220ab508"
      },
      "source": [
        "# 1.Hypothesis 1= Rating does not affect revenue?"
      ]
    },
    {
      "cell_type": "code",
      "execution_count": null,
      "id": "7df19c4d",
      "metadata": {
        "id": "7df19c4d",
        "outputId": "3470f6ab-399c-4438-f42f-6152182904d6"
      },
      "outputs": [
        {
          "data": {
            "text/plain": [
              "0.12663010876438396"
            ]
          },
          "execution_count": 298,
          "metadata": {},
          "output_type": "execute_result"
        }
      ],
      "source": [
        "cleaned_data['IMDB Rating'].corr(cleaned_data['Gross Earning'])"
      ]
    },
    {
      "cell_type": "markdown",
      "id": "3f1949ec",
      "metadata": {
        "id": "3f1949ec"
      },
      "source": [
        "Clearly the non zero value of correlation shows that rating affects the revenue."
      ]
    },
    {
      "cell_type": "code",
      "execution_count": null,
      "id": "5ac10a81",
      "metadata": {
        "id": "5ac10a81",
        "outputId": "a5347f6f-3630-46e1-a717-7ea0f9e65ffa"
      },
      "outputs": [
        {
          "data": {
            "text/plain": [
              "Text(0.5, 0, 'Rating')"
            ]
          },
          "execution_count": 305,
          "metadata": {},
          "output_type": "execute_result"
        },
        {
          "data": {
            "image/png": "[encoded data removed]",
            "text/plain": [
              "<Figure size 1000x600 with 1 Axes>"
            ]
          },
          "metadata": {},
          "output_type": "display_data"
        }
      ],
      "source": [
        "f, ax = plt.subplots(figsize=(10, 6))\n",
        "sns.scatterplot(x='IMDB Rating',y='Gross Earning',data=cleaned_data,ax=ax)\n",
        "#plt.scatter(cleaned_data['IMDB Rating'],cleaned_data['Gross Earning']);\n",
        "plt.ylabel(\"Revenue\")\n",
        "plt.xlabel(\"Rating\")"
      ]
    },
    {
      "cell_type": "markdown",
      "id": "ef1a45a4",
      "metadata": {
        "id": "ef1a45a4"
      },
      "source": [
        "Clearly our null hypothesis is wrong. Rating affects the revenue."
      ]
    },
    {
      "cell_type": "markdown",
      "id": "91473c59",
      "metadata": {
        "id": "91473c59"
      },
      "source": [
        "# Hypothesis 2 =Rating is not affected by runtime."
      ]
    },
    {
      "cell_type": "code",
      "execution_count": null,
      "id": "e2ad2743",
      "metadata": {
        "id": "e2ad2743",
        "outputId": "ef3db502-fb7a-44de-e9ae-d620d9d9b18e"
      },
      "outputs": [
        {
          "data": {
            "text/plain": [
              "0.26835824134436026"
            ]
          },
          "execution_count": 300,
          "metadata": {},
          "output_type": "execute_result"
        }
      ],
      "source": [
        "cleaned_data['IMDB Rating'].corr(cleaned_data['Runtime'])"
      ]
    },
    {
      "cell_type": "code",
      "execution_count": null,
      "id": "fb80e1b0",
      "metadata": {
        "id": "fb80e1b0",
        "outputId": "abdee0ab-17c5-4d95-98f3-5740534cd006"
      },
      "outputs": [
        {
          "data": {
            "image/png": "[encoded data removed]",
            "text/plain": [
              "<Figure size 1000x600 with 1 Axes>"
            ]
          },
          "metadata": {},
          "output_type": "display_data"
        }
      ],
      "source": [
        "f, ax = plt.subplots(figsize=(10, 6))\n",
        "sns.scatterplot(x='IMDB Rating',y='Runtime',data= cleaned_data, ax=ax)\n",
        "plt.show()"
      ]
    },
    {
      "cell_type": "markdown",
      "id": "77100b2e",
      "metadata": {
        "id": "77100b2e"
      },
      "source": [
        "Rating Increases with longer duration"
      ]
    },
    {
      "cell_type": "markdown",
      "id": "58de7e54",
      "metadata": {
        "id": "58de7e54"
      },
      "source": [
        "# Shape"
      ]
    },
    {
      "cell_type": "code",
      "execution_count": null,
      "id": "894ac49d",
      "metadata": {
        "id": "894ac49d",
        "outputId": "629211e0-ea91-4a9d-b8b9-50319b76d525"
      },
      "outputs": [
        {
          "name": "stderr",
          "output_type": "stream",
          "text": [
            "C:\\Users\\gorav sen\\AppData\\Local\\Temp\\ipykernel_15452\\2464340790.py:2: UserWarning: \n",
            "\n",
            "`distplot` is a deprecated function and will be removed in seaborn v0.14.0.\n",
            "\n",
            "Please adapt your code to use either `displot` (a figure-level function with\n",
            "similar flexibility) or `histplot` (an axes-level function for histograms).\n",
            "\n",
            "For a guide to updating your code to use the new functions, please see\n",
            "https://gist.github.com/mwaskom/de44147ed2974457ad6372750bbe5751\n",
            "\n",
            "  sns.distplot(df['Metadata'], kde=False,ax=ax);\n"
          ]
        },
        {
          "data": {
            "image/png": "[encoded data removed]",
            "text/plain": [
              "<Figure size 1000x600 with 1 Axes>"
            ]
          },
          "metadata": {},
          "output_type": "display_data"
        }
      ],
      "source": [
        "f, ax = plt.subplots(figsize=(10, 6))\n",
        "sns.distplot(df['Metadata'], kde=False,ax=ax);"
      ]
    },
    {
      "cell_type": "code",
      "execution_count": null,
      "id": "a63fb137",
      "metadata": {
        "id": "a63fb137",
        "outputId": "e9412b84-b907-48be-eda5-e3ccc59cf240"
      },
      "outputs": [
        {
          "name": "stderr",
          "output_type": "stream",
          "text": [
            "C:\\Users\\gorav sen\\AppData\\Local\\Temp\\ipykernel_15452\\1728577953.py:2: UserWarning: \n",
            "\n",
            "`distplot` is a deprecated function and will be removed in seaborn v0.14.0.\n",
            "\n",
            "Please adapt your code to use either `displot` (a figure-level function with\n",
            "similar flexibility) or `histplot` (an axes-level function for histograms).\n",
            "\n",
            "For a guide to updating your code to use the new functions, please see\n",
            "https://gist.github.com/mwaskom/de44147ed2974457ad6372750bbe5751\n",
            "\n",
            "  sns.distplot(df['Runtime'], kde=False,ax=ax);\n"
          ]
        },
        {
          "data": {
            "image/png": "[encoded data removed]",
            "text/plain": [
              "<Figure size 1000x600 with 1 Axes>"
            ]
          },
          "metadata": {},
          "output_type": "display_data"
        }
      ],
      "source": [
        "f, ax = plt.subplots(figsize=(10, 6))\n",
        "sns.distplot(df['Runtime'], kde=False,ax=ax);"
      ]
    },
    {
      "cell_type": "code",
      "execution_count": null,
      "id": "b38e7a65",
      "metadata": {
        "id": "b38e7a65",
        "outputId": "6d11e48d-c43b-41dd-a34d-3aeaf7cbfff7"
      },
      "outputs": [
        {
          "name": "stderr",
          "output_type": "stream",
          "text": [
            "C:\\Users\\gorav sen\\AppData\\Local\\Temp\\ipykernel_15452\\1513932474.py:2: UserWarning: \n",
            "\n",
            "`distplot` is a deprecated function and will be removed in seaborn v0.14.0.\n",
            "\n",
            "Please adapt your code to use either `displot` (a figure-level function with\n",
            "similar flexibility) or `histplot` (an axes-level function for histograms).\n",
            "\n",
            "For a guide to updating your code to use the new functions, please see\n",
            "https://gist.github.com/mwaskom/de44147ed2974457ad6372750bbe5751\n",
            "\n",
            "  sns.distplot(df['Vote'], kde=False,ax=ax);\n"
          ]
        },
        {
          "data": {
            "image/png": "[encoded data removed]",
            "text/plain": [
              "<Figure size 1000x600 with 1 Axes>"
            ]
          },
          "metadata": {},
          "output_type": "display_data"
        }
      ],
      "source": [
        "f, ax = plt.subplots(figsize=(10, 6))\n",
        "sns.distplot(df['Vote'], kde=False,ax=ax);"
      ]
    },
    {
      "cell_type": "code",
      "execution_count": null,
      "id": "15d8629b",
      "metadata": {
        "id": "15d8629b",
        "outputId": "21595202-1cf7-46f4-a2b8-1867f12f8509"
      },
      "outputs": [
        {
          "name": "stderr",
          "output_type": "stream",
          "text": [
            "C:\\Users\\gorav sen\\AppData\\Local\\Temp\\ipykernel_15452\\3329753649.py:2: UserWarning: \n",
            "\n",
            "`distplot` is a deprecated function and will be removed in seaborn v0.14.0.\n",
            "\n",
            "Please adapt your code to use either `displot` (a figure-level function with\n",
            "similar flexibility) or `histplot` (an axes-level function for histograms).\n",
            "\n",
            "For a guide to updating your code to use the new functions, please see\n",
            "https://gist.github.com/mwaskom/de44147ed2974457ad6372750bbe5751\n",
            "\n",
            "  sns.distplot(df['Gross Earning'], kde=False,ax=ax);\n"
          ]
        },
        {
          "data": {
            "image/png": "[encoded data removed]",
            "text/plain": [
              "<Figure size 1000x600 with 1 Axes>"
            ]
          },
          "metadata": {},
          "output_type": "display_data"
        }
      ],
      "source": [
        "f, ax = plt.subplots(figsize=(10, 6))\n",
        "sns.distplot(df['Gross Earning'], kde=False,ax=ax);"
      ]
    },
    {
      "cell_type": "markdown",
      "id": "158d5b9d",
      "metadata": {
        "id": "158d5b9d"
      },
      "source": [
        "# Central tendency"
      ]
    },
    {
      "cell_type": "markdown",
      "id": "dc438a1e",
      "metadata": {
        "id": "dc438a1e"
      },
      "source": [
        "## Mean"
      ]
    },
    {
      "cell_type": "code",
      "execution_count": null,
      "id": "7d232112",
      "metadata": {
        "id": "7d232112",
        "outputId": "9409bdb1-1de2-4716-e9e5-ce13b88ce28a"
      },
      "outputs": [
        {
          "name": "stderr",
          "output_type": "stream",
          "text": [
            "C:\\Users\\gorav sen\\AppData\\Local\\Temp\\ipykernel_15452\\274599841.py:1: FutureWarning: The default value of numeric_only in DataFrame.mean is deprecated. In a future version, it will default to False. In addition, specifying 'numeric_only=None' is deprecated. Select only valid columns or specify the value of numeric_only to silence this warning.\n",
            "  cleaned_data.mean()\n"
          ]
        },
        {
          "data": {
            "text/plain": [
              "Year               1991.305000\n",
              "IMDB Rating           7.965200\n",
              "Runtime             123.828000\n",
              "Metadata             78.761621\n",
              "Gross Earning        73.097804\n",
              "Vote             305710.057000\n",
              "dtype: float64"
            ]
          },
          "execution_count": 309,
          "metadata": {},
          "output_type": "execute_result"
        }
      ],
      "source": [
        "cleaned_data.mean()"
      ]
    },
    {
      "cell_type": "markdown",
      "id": "2ea88f9d",
      "metadata": {
        "id": "2ea88f9d"
      },
      "source": [
        "## Median"
      ]
    },
    {
      "cell_type": "code",
      "execution_count": null,
      "id": "5eabcb8d",
      "metadata": {
        "id": "5eabcb8d",
        "outputId": "3ddca1aa-1f70-4e32-c9d3-c7cde8750990"
      },
      "outputs": [
        {
          "name": "stderr",
          "output_type": "stream",
          "text": [
            "C:\\Users\\gorav sen\\AppData\\Local\\Temp\\ipykernel_15452\\400132010.py:1: FutureWarning: The default value of numeric_only in DataFrame.median is deprecated. In a future version, it will default to False. In addition, specifying 'numeric_only=None' is deprecated. Select only valid columns or specify the value of numeric_only to silence this warning.\n",
            "  cleaned_data.median()\n"
          ]
        },
        {
          "data": {
            "text/plain": [
              "Year               1999.00\n",
              "IMDB Rating           7.90\n",
              "Runtime             120.00\n",
              "Metadata             80.00\n",
              "Gross Earning        26.02\n",
              "Vote             152667.00\n",
              "dtype: float64"
            ]
          },
          "execution_count": 310,
          "metadata": {},
          "output_type": "execute_result"
        }
      ],
      "source": [
        "cleaned_data.median()"
      ]
    },
    {
      "cell_type": "markdown",
      "id": "a26175ac",
      "metadata": {
        "id": "a26175ac"
      },
      "source": [
        "# Variability\n",
        "* range\n",
        "* IQR\n",
        "* Variance and Standard deviation"
      ]
    },
    {
      "cell_type": "markdown",
      "id": "2034733e",
      "metadata": {
        "id": "2034733e"
      },
      "source": [
        "# Range"
      ]
    },
    {
      "cell_type": "code",
      "execution_count": null,
      "id": "35fb33fa",
      "metadata": {
        "id": "35fb33fa",
        "outputId": "cea3f955-7917-4889-d904-694e9c94f136"
      },
      "outputs": [
        {
          "name": "stdout",
          "output_type": "stream",
          "text": [
            "9.3 - 7.6  =  1.700000000000001\n"
          ]
        }
      ],
      "source": [
        "min_val = cleaned_data['IMDB Rating'].min()\n",
        "max_val = cleaned_data['IMDB Rating'].max()\n",
        "range_vals =  max_val - min_val\n",
        "print(max_val, '-' , min_val,' = ',  range_vals)"
      ]
    },
    {
      "cell_type": "code",
      "execution_count": null,
      "id": "57b90475",
      "metadata": {
        "id": "57b90475",
        "outputId": "70acb374-2dca-4992-f2ba-2e4889a84f22"
      },
      "outputs": [
        {
          "name": "stdout",
          "output_type": "stream",
          "text": [
            "100.0 - 28.0  =  72.0\n"
          ]
        }
      ],
      "source": [
        "min_val = cleaned_data['Metadata'].min()\n",
        "max_val = cleaned_data['Metadata'].max()\n",
        "range_vals =  max_val - min_val\n",
        "print(max_val, '-' , min_val,' = ',  range_vals)"
      ]
    },
    {
      "cell_type": "code",
      "execution_count": null,
      "id": "a21bab3a",
      "metadata": {
        "id": "a21bab3a",
        "outputId": "32513b98-c4e9-49eb-abaa-d4dd9d1ca296"
      },
      "outputs": [
        {
          "name": "stdout",
          "output_type": "stream",
          "text": [
            "321 - 45  =  276\n"
          ]
        }
      ],
      "source": [
        "min_val = cleaned_data['Runtime'].min()\n",
        "max_val = cleaned_data['Runtime'].max()\n",
        "range_vals =  max_val - min_val\n",
        "print(max_val, '-' , min_val,' = ',  range_vals)"
      ]
    },
    {
      "cell_type": "code",
      "execution_count": null,
      "id": "d4f03b80",
      "metadata": {
        "id": "d4f03b80",
        "outputId": "125380ab-1ffa-4f08-cb24-ed616c65862b"
      },
      "outputs": [
        {
          "name": "stdout",
          "output_type": "stream",
          "text": [
            "936.66 - 0.0  =  936.66\n"
          ]
        }
      ],
      "source": [
        "min_val = cleaned_data['Gross Earning'].min()\n",
        "max_val = cleaned_data['Gross Earning'].max()\n",
        "range_vals =  max_val - min_val\n",
        "print(max_val, '-' , min_val,' = ',  range_vals)"
      ]
    },
    {
      "cell_type": "code",
      "execution_count": null,
      "id": "429ae6b8",
      "metadata": {
        "id": "429ae6b8",
        "outputId": "5f3838aa-4a37-4265-c6d6-57c75ac45e73"
      },
      "outputs": [
        {
          "name": "stdout",
          "output_type": "stream",
          "text": [
            "2648769 - 25501  =  2623268\n"
          ]
        }
      ],
      "source": [
        "min_val = cleaned_data['Vote'].min()\n",
        "max_val = cleaned_data['Vote'].max()\n",
        "range_vals =  max_val - min_val\n",
        "print(max_val, '-' , min_val,' = ',  range_vals)"
      ]
    },
    {
      "cell_type": "markdown",
      "id": "039eb468",
      "metadata": {
        "id": "039eb468"
      },
      "source": [
        "# IQR(Interquartile Range)\n",
        "75th percentile - 25th percentile"
      ]
    },
    {
      "cell_type": "code",
      "execution_count": null,
      "id": "1d2c1c73",
      "metadata": {
        "id": "1d2c1c73",
        "outputId": "1754c803-4960-48c9-d65a-6045b3af8f66"
      },
      "outputs": [
        {
          "data": {
            "text/plain": [
              "0.39999999999999947"
            ]
          },
          "execution_count": 324,
          "metadata": {},
          "output_type": "execute_result"
        }
      ],
      "source": [
        "lower, upper = np.percentile(cleaned_data['IMDB Rating'], [25, 75])\n",
        "iqr = upper - lower\n",
        "iqr"
      ]
    },
    {
      "cell_type": "code",
      "execution_count": null,
      "id": "bf8c9f9c",
      "metadata": {
        "id": "bf8c9f9c",
        "outputId": "524471ec-9465-4a6f-ee1d-c159e6fa4fa4"
      },
      "outputs": [
        {
          "data": {
            "image/png": "[encoded data removed]",
            "text/plain": [
              "<Figure size 1000x600 with 1 Axes>"
            ]
          },
          "metadata": {},
          "output_type": "display_data"
        }
      ],
      "source": [
        "f, ax = plt.subplots(figsize=(10, 6))\n",
        "sns.boxplot(x='IMDB Rating', data=cleaned_data,ax=ax);"
      ]
    },
    {
      "cell_type": "code",
      "execution_count": null,
      "id": "49f04ef1",
      "metadata": {
        "id": "49f04ef1",
        "outputId": "f87e8535-f7f6-4f24-bb4f-44bd13609e6f"
      },
      "outputs": [
        {
          "data": {
            "text/plain": [
              "35.0"
            ]
          },
          "execution_count": 327,
          "metadata": {},
          "output_type": "execute_result"
        }
      ],
      "source": [
        "lower, upper = np.percentile(cleaned_data['Runtime'], [25, 75])\n",
        "iqr = upper - lower\n",
        "iqr"
      ]
    },
    {
      "cell_type": "code",
      "execution_count": null,
      "id": "21e4b0bf",
      "metadata": {
        "id": "21e4b0bf",
        "outputId": "a120d8ac-7998-4d70-f8f4-abe3d8255969"
      },
      "outputs": [
        {
          "data": {
            "image/png": "[encoded data removed]",
            "text/plain": [
              "<Figure size 1000x600 with 1 Axes>"
            ]
          },
          "metadata": {},
          "output_type": "display_data"
        }
      ],
      "source": [
        "f, ax = plt.subplots(figsize=(10, 6))\n",
        "sns.boxplot(x='Runtime', data=cleaned_data,ax=ax);"
      ]
    },
    {
      "cell_type": "code",
      "execution_count": null,
      "id": "d86bf002",
      "metadata": {
        "id": "d86bf002",
        "outputId": "31633143-8a3c-4905-8658-9838ba50aa62"
      },
      "outputs": [
        {
          "data": {
            "text/plain": [
              "16.0"
            ]
          },
          "execution_count": 335,
          "metadata": {},
          "output_type": "execute_result"
        }
      ],
      "source": [
        "df=cleaned_data.dropna(axis=0)\n",
        "lower, upper = np.percentile(df['Metadata'], [25, 75])\n",
        "iqr = upper - lower\n",
        "iqr"
      ]
    },
    {
      "cell_type": "code",
      "execution_count": null,
      "id": "4788c76e",
      "metadata": {
        "id": "4788c76e",
        "outputId": "a28b1437-fa43-4046-efa4-0d16d038f4fe"
      },
      "outputs": [
        {
          "data": {
            "text/plain": [
              "102.40750000000001"
            ]
          },
          "execution_count": 334,
          "metadata": {},
          "output_type": "execute_result"
        }
      ],
      "source": [
        "df=cleaned_data.dropna(axis=0)\n",
        "lower, upper = np.percentile(df['Gross Earning'], [25, 75])\n",
        "iqr = upper - lower\n",
        "iqr"
      ]
    },
    {
      "cell_type": "code",
      "execution_count": null,
      "id": "c70f0479",
      "metadata": {
        "id": "c70f0479",
        "outputId": "8376ff1d-24c7-4971-965c-94ec246a7333"
      },
      "outputs": [
        {
          "data": {
            "image/png": "[encoded data removed]",
            "text/plain": [
              "<Figure size 1000x600 with 1 Axes>"
            ]
          },
          "metadata": {},
          "output_type": "display_data"
        }
      ],
      "source": [
        "f, ax = plt.subplots(figsize=(10, 6))\n",
        "sns.boxplot(x='Metadata', data=df,ax=ax);"
      ]
    },
    {
      "cell_type": "code",
      "execution_count": null,
      "id": "5ea9b3f7",
      "metadata": {
        "id": "5ea9b3f7",
        "outputId": "5a553e83-9576-4e1f-a3e0-ddcf69b44110"
      },
      "outputs": [
        {
          "data": {
            "image/png": "[encoded data removed]",
            "text/plain": [
              "<Figure size 1000x600 with 1 Axes>"
            ]
          },
          "metadata": {},
          "output_type": "display_data"
        }
      ],
      "source": [
        "f, ax = plt.subplots(figsize=(10, 6))\n",
        "sns.boxplot(x='Gross Earning', data=df,ax=ax);"
      ]
    },
    {
      "cell_type": "markdown",
      "id": "885001e5",
      "metadata": {
        "id": "885001e5"
      },
      "source": [
        "# Variance and Standard Deviation"
      ]
    },
    {
      "cell_type": "markdown",
      "id": "766a0625",
      "metadata": {
        "id": "766a0625"
      },
      "source": [
        "### Variance"
      ]
    },
    {
      "cell_type": "code",
      "execution_count": null,
      "id": "83b8dc3a",
      "metadata": {
        "id": "83b8dc3a",
        "outputId": "e3800c44-8657-417f-ca71-67cbe15e2374"
      },
      "outputs": [
        {
          "data": {
            "text/plain": [
              "821.3958118118118"
            ]
          },
          "execution_count": 339,
          "metadata": {},
          "output_type": "execute_result"
        }
      ],
      "source": [
        "cleaned_data['Runtime'].var()"
      ]
    },
    {
      "cell_type": "code",
      "execution_count": null,
      "id": "085eb2d8",
      "metadata": {
        "id": "085eb2d8",
        "outputId": "c68fa838-9063-4eab-e0ce-8e81e4e30cbe"
      },
      "outputs": [
        {
          "data": {
            "text/plain": [
              "0.07686582582582582"
            ]
          },
          "execution_count": 340,
          "metadata": {},
          "output_type": "execute_result"
        }
      ],
      "source": [
        "cleaned_data['IMDB Rating'].var()"
      ]
    },
    {
      "cell_type": "code",
      "execution_count": null,
      "id": "de5d2a4d",
      "metadata": {
        "id": "de5d2a4d",
        "outputId": "8d485b3a-7052-42ec-c23b-2b6072794a3d"
      },
      "outputs": [
        {
          "data": {
            "text/plain": [
              "12924.594112902441"
            ]
          },
          "execution_count": 341,
          "metadata": {},
          "output_type": "execute_result"
        }
      ],
      "source": [
        "cleaned_data['Gross Earning'].var()"
      ]
    },
    {
      "cell_type": "code",
      "execution_count": null,
      "id": "4d706bca",
      "metadata": {
        "id": "4d706bca",
        "outputId": "593c910a-1717-433e-c277-1ffb6e2f338b"
      },
      "outputs": [
        {
          "data": {
            "text/plain": [
              "144.355995459989"
            ]
          },
          "execution_count": 342,
          "metadata": {},
          "output_type": "execute_result"
        }
      ],
      "source": [
        "cleaned_data['Metadata'].var()"
      ]
    },
    {
      "cell_type": "code",
      "execution_count": null,
      "id": "773583bb",
      "metadata": {
        "id": "773583bb",
        "outputId": "84508565-f9f8-473c-ec9d-6739612fc7b9"
      },
      "outputs": [
        {
          "data": {
            "text/plain": [
              "135246135059.39915"
            ]
          },
          "execution_count": 343,
          "metadata": {},
          "output_type": "execute_result"
        }
      ],
      "source": [
        "cleaned_data['Vote'].var()"
      ]
    },
    {
      "cell_type": "markdown",
      "id": "82e1535b",
      "metadata": {
        "id": "82e1535b"
      },
      "source": [
        "### Standard deviation"
      ]
    },
    {
      "cell_type": "code",
      "execution_count": null,
      "id": "4e715bfa",
      "metadata": {
        "id": "4e715bfa",
        "outputId": "595bf719-afd4-4cc3-eb7e-716f56fe806c"
      },
      "outputs": [
        {
          "data": {
            "text/plain": [
              "28.660003695251188"
            ]
          },
          "execution_count": 345,
          "metadata": {},
          "output_type": "execute_result"
        }
      ],
      "source": [
        "cleaned_data['Runtime'].std()"
      ]
    },
    {
      "cell_type": "code",
      "execution_count": null,
      "id": "b7cdd814",
      "metadata": {
        "id": "b7cdd814",
        "outputId": "075a046b-e17d-4571-cb48-0c45bf95d918"
      },
      "outputs": [
        {
          "data": {
            "text/plain": [
              "367758.25627631956"
            ]
          },
          "execution_count": 346,
          "metadata": {},
          "output_type": "execute_result"
        }
      ],
      "source": [
        "cleaned_data['Vote'].std()"
      ]
    },
    {
      "cell_type": "code",
      "execution_count": null,
      "id": "a0621762",
      "metadata": {
        "id": "a0621762",
        "outputId": "f73ad116-ec8b-4b38-c977-ebe64ab2a930"
      },
      "outputs": [
        {
          "data": {
            "text/plain": [
              "12.014823987890502"
            ]
          },
          "execution_count": 347,
          "metadata": {},
          "output_type": "execute_result"
        }
      ],
      "source": [
        "cleaned_data['Metadata'].std()"
      ]
    },
    {
      "cell_type": "code",
      "execution_count": null,
      "id": "33d7ccb6",
      "metadata": {
        "id": "33d7ccb6",
        "outputId": "21a4fc1a-4eb3-486d-d957-1f840562af12"
      },
      "outputs": [
        {
          "data": {
            "text/plain": [
              "113.6863849055921"
            ]
          },
          "execution_count": 348,
          "metadata": {},
          "output_type": "execute_result"
        }
      ],
      "source": [
        "cleaned_data['Gross Earning'].std()"
      ]
    },
    {
      "cell_type": "code",
      "execution_count": null,
      "id": "5afaf385",
      "metadata": {
        "id": "5afaf385",
        "outputId": "985908c6-2b27-4189-8b04-75ce3cd6c894"
      },
      "outputs": [
        {
          "data": {
            "text/plain": [
              "0.27724686801806403"
            ]
          },
          "execution_count": 349,
          "metadata": {},
          "output_type": "execute_result"
        }
      ],
      "source": [
        "cleaned_data['IMDB Rating'].std()"
      ]
    }
  ],
  "metadata": {
    "kernelspec": {
      "display_name": "Python 3 (ipykernel)",
      "language": "python",
      "name": "python3"
    },
    "language_info": {
      "codemirror_mode": {
        "name": "ipython",
        "version": 3
      },
      "file_extension": ".py",
      "mimetype": "text/x-python",
      "name": "python",
      "nbconvert_exporter": "python",
      "pygments_lexer": "ipython3",
      "version": "3.10.4"
    },
    "colab": {
      "provenance": [],
      "collapsed_sections": [
        "a409bb36",
        "372ea572",
        "4b5005d6",
        "56e923e7",
        "45e6622b",
        "a0b2de06",
        "587029c0",
        "adabc147",
        "8d7e50c5",
        "0af27703",
        "549ec76d",
        "070d4dee",
        "bd2f7aad",
        "09dfdbeb",
        "220ab508",
        "91473c59",
        "58de7e54",
        "158d5b9d",
        "dc438a1e",
        "2ea88f9d",
        "a26175ac",
        "2034733e",
        "039eb468",
        "766a0625"
      ]
    }
  },
  "nbformat": 4,
  "nbformat_minor": 5
}